{
  "nbformat": 4,
  "nbformat_minor": 0,
  "metadata": {
    "colab": {
      "name": "03.  Indexing and Akses Selection Data Frame.ipynb",
      "provenance": [],
      "collapsed_sections": [],
      "toc_visible": true
    },
    "kernelspec": {
      "name": "python3",
      "display_name": "Python 3"
    }
  },
  "cells": [
    {
      "cell_type": "markdown",
      "metadata": {
        "id": "JyK-BA_mFo_k"
      },
      "source": [
        "# **Indexing/Akses Selection**\n",
        "\n",
        "**Indexing DataFrame**\n",
        "Akses DataFrame sering juga di kenal indexing atau Subset Selection. secara sederhana maknanya adalah kita memilih suatu data dari baris tertentu dan column tertentu. kita bisa saja memilih beberapa baris dan semua kolom dari data, semua baris dan beberapa column dari data, atau beberapa baris dan bebearpa column dari data.\n",
        "\n",
        "Ada banyak cara-cara kita indexing suatu dataframe. diantranya adalah dengan menggunakan :\n",
        "\n",
        "*   `dataframe[]` : cara seperti ini dikenal sebagai index operator.\n",
        "*   `dataframe.loc[]`: operator yang menggunakan label untuk mengakses data, jika misalkan kamu melakukan dataframe.loc[‘jumlah’], berarti kamu hendak mengakses data yang mempunyai index jumlah\n",
        "*   `dataframe.iloc[]`: operator yang menggunakan posisi index untuk mengakses data. jikalau kamu melakukan dataframe.iloc[2] berarti kamu hendak mengakses dataframe dengan index posisi 2\n",
        "\n",
        "---\n",
        "\n",
        "*name of colum*\n",
        "```\n",
        "df['column']\n",
        "```\n",
        "---\n",
        "*label*\n",
        "```\n",
        "df.loc[index, column]\n",
        "```\n",
        "---\n",
        "\n",
        "*numeric*\n",
        "```\n",
        "df.iloc[ : , : ]\n",
        "\n",
        "df.iloc[index,column]\n",
        "\n",
        "df.iloc[[ , , ],[ , , ]]\n",
        "```\n",
        "---\n",
        "\n",
        "\n",
        "\n",
        "\n",
        "\n",
        "\n",
        "\n",
        "\n"
      ]
    },
    {
      "cell_type": "markdown",
      "metadata": {
        "id": "gtaSWArtXbpZ"
      },
      "source": [
        "## **Row and Columns Selection**"
      ]
    },
    {
      "cell_type": "markdown",
      "metadata": {
        "id": "s54vrdha4Ri-"
      },
      "source": [
        "### df['column'] and df[index:index]\n",
        "\n",
        "You can select a column (**df[col]**) and return column with label col as Series \n",
        "\n",
        "Or a few columns (**df[[col1, col2]]**) and returns columns as a new DataFrame."
      ]
    },
    {
      "cell_type": "code",
      "metadata": {
        "id": "8s4UKA0HCboL",
        "colab": {
          "base_uri": "https://localhost:8080/",
          "height": 166
        },
        "outputId": "c014d13c-199a-4f61-88f7-d19202da3fbb"
      },
      "source": [
        "import pandas as pd\n",
        "\n",
        "df = pd.DataFrame({'Calon President': ['Imam', 'Abrar', 'Muthia', 'Itha'],\n",
        "                   'Umur' : [12,34,5,67],\n",
        "                   'Alamat' : ['Jln.1', 'Jln.2', 'Jln.3', 'Jln.4'],\n",
        "                   'Jumlah Voting': [100, 50, 60, 20],\n",
        "                   'Jenis Kelamin':['L', 'L', 'P', 'P'],\n",
        "                   'Negara':['Indonesia', 'Australia', 'Amerika', 'Mesir']})\n",
        "df"
      ],
      "execution_count": null,
      "outputs": [
        {
          "output_type": "execute_result",
          "data": {
            "text/html": [
              "<div>\n",
              "<style scoped>\n",
              "    .dataframe tbody tr th:only-of-type {\n",
              "        vertical-align: middle;\n",
              "    }\n",
              "\n",
              "    .dataframe tbody tr th {\n",
              "        vertical-align: top;\n",
              "    }\n",
              "\n",
              "    .dataframe thead th {\n",
              "        text-align: right;\n",
              "    }\n",
              "</style>\n",
              "<table border=\"1\" class=\"dataframe\">\n",
              "  <thead>\n",
              "    <tr style=\"text-align: right;\">\n",
              "      <th></th>\n",
              "      <th>Calon President</th>\n",
              "      <th>Umur</th>\n",
              "      <th>Alamat</th>\n",
              "      <th>Jumlah Voting</th>\n",
              "      <th>Jenis Kelamin</th>\n",
              "      <th>Negara</th>\n",
              "    </tr>\n",
              "  </thead>\n",
              "  <tbody>\n",
              "    <tr>\n",
              "      <th>0</th>\n",
              "      <td>Imam</td>\n",
              "      <td>12</td>\n",
              "      <td>Jln.1</td>\n",
              "      <td>100</td>\n",
              "      <td>L</td>\n",
              "      <td>Indonesia</td>\n",
              "    </tr>\n",
              "    <tr>\n",
              "      <th>1</th>\n",
              "      <td>Abrar</td>\n",
              "      <td>34</td>\n",
              "      <td>Jln.2</td>\n",
              "      <td>50</td>\n",
              "      <td>L</td>\n",
              "      <td>Australia</td>\n",
              "    </tr>\n",
              "    <tr>\n",
              "      <th>2</th>\n",
              "      <td>Muthia</td>\n",
              "      <td>5</td>\n",
              "      <td>Jln.3</td>\n",
              "      <td>60</td>\n",
              "      <td>P</td>\n",
              "      <td>Amerika</td>\n",
              "    </tr>\n",
              "    <tr>\n",
              "      <th>3</th>\n",
              "      <td>Itha</td>\n",
              "      <td>67</td>\n",
              "      <td>Jln.4</td>\n",
              "      <td>20</td>\n",
              "      <td>P</td>\n",
              "      <td>Mesir</td>\n",
              "    </tr>\n",
              "  </tbody>\n",
              "</table>\n",
              "</div>"
            ],
            "text/plain": [
              "  Calon President  Umur Alamat  Jumlah Voting Jenis Kelamin     Negara\n",
              "0            Imam    12  Jln.1            100             L  Indonesia\n",
              "1           Abrar    34  Jln.2             50             L  Australia\n",
              "2          Muthia     5  Jln.3             60             P    Amerika\n",
              "3            Itha    67  Jln.4             20             P      Mesir"
            ]
          },
          "metadata": {
            "tags": []
          },
          "execution_count": 58
        }
      ]
    },
    {
      "cell_type": "code",
      "metadata": {
        "id": "XO2nCVH_bDsN",
        "colab": {
          "base_uri": "https://localhost:8080/",
          "height": 106
        },
        "outputId": "7df57ee0-c7c8-4008-97b2-329ca12db0de"
      },
      "source": [
        "# selecting index\n",
        "df[0:2]"
      ],
      "execution_count": null,
      "outputs": [
        {
          "output_type": "execute_result",
          "data": {
            "text/html": [
              "<div>\n",
              "<style scoped>\n",
              "    .dataframe tbody tr th:only-of-type {\n",
              "        vertical-align: middle;\n",
              "    }\n",
              "\n",
              "    .dataframe tbody tr th {\n",
              "        vertical-align: top;\n",
              "    }\n",
              "\n",
              "    .dataframe thead th {\n",
              "        text-align: right;\n",
              "    }\n",
              "</style>\n",
              "<table border=\"1\" class=\"dataframe\">\n",
              "  <thead>\n",
              "    <tr style=\"text-align: right;\">\n",
              "      <th></th>\n",
              "      <th>Calon President</th>\n",
              "      <th>Umur</th>\n",
              "      <th>Alamat</th>\n",
              "      <th>Jumlah Voting</th>\n",
              "      <th>Jenis Kelamin</th>\n",
              "      <th>Negara</th>\n",
              "    </tr>\n",
              "  </thead>\n",
              "  <tbody>\n",
              "    <tr>\n",
              "      <th>0</th>\n",
              "      <td>Imam</td>\n",
              "      <td>12</td>\n",
              "      <td>Jln.1</td>\n",
              "      <td>100</td>\n",
              "      <td>L</td>\n",
              "      <td>Indonesia</td>\n",
              "    </tr>\n",
              "    <tr>\n",
              "      <th>1</th>\n",
              "      <td>Abrar</td>\n",
              "      <td>34</td>\n",
              "      <td>Jln.2</td>\n",
              "      <td>50</td>\n",
              "      <td>L</td>\n",
              "      <td>Australia</td>\n",
              "    </tr>\n",
              "  </tbody>\n",
              "</table>\n",
              "</div>"
            ],
            "text/plain": [
              "  Calon President  Umur Alamat  Jumlah Voting Jenis Kelamin     Negara\n",
              "0            Imam    12  Jln.1            100             L  Indonesia\n",
              "1           Abrar    34  Jln.2             50             L  Australia"
            ]
          },
          "metadata": {
            "tags": []
          },
          "execution_count": 59
        }
      ]
    },
    {
      "cell_type": "code",
      "metadata": {
        "id": "5siBvPu-4dms",
        "colab": {
          "base_uri": "https://localhost:8080/",
          "height": 166
        },
        "outputId": "8aca23ef-0518-4a0e-e31e-fad6b5309c05"
      },
      "source": [
        "# selecting column\n",
        "df['Umur'] #type() -> Series\n",
        "df[['Umur']] # type() -> DataFrame"
      ],
      "execution_count": null,
      "outputs": [
        {
          "output_type": "execute_result",
          "data": {
            "text/html": [
              "<div>\n",
              "<style scoped>\n",
              "    .dataframe tbody tr th:only-of-type {\n",
              "        vertical-align: middle;\n",
              "    }\n",
              "\n",
              "    .dataframe tbody tr th {\n",
              "        vertical-align: top;\n",
              "    }\n",
              "\n",
              "    .dataframe thead th {\n",
              "        text-align: right;\n",
              "    }\n",
              "</style>\n",
              "<table border=\"1\" class=\"dataframe\">\n",
              "  <thead>\n",
              "    <tr style=\"text-align: right;\">\n",
              "      <th></th>\n",
              "      <th>Umur</th>\n",
              "    </tr>\n",
              "  </thead>\n",
              "  <tbody>\n",
              "    <tr>\n",
              "      <th>0</th>\n",
              "      <td>12</td>\n",
              "    </tr>\n",
              "    <tr>\n",
              "      <th>1</th>\n",
              "      <td>34</td>\n",
              "    </tr>\n",
              "    <tr>\n",
              "      <th>2</th>\n",
              "      <td>5</td>\n",
              "    </tr>\n",
              "    <tr>\n",
              "      <th>3</th>\n",
              "      <td>67</td>\n",
              "    </tr>\n",
              "  </tbody>\n",
              "</table>\n",
              "</div>"
            ],
            "text/plain": [
              "   Umur\n",
              "0    12\n",
              "1    34\n",
              "2     5\n",
              "3    67"
            ]
          },
          "metadata": {
            "tags": []
          },
          "execution_count": 60
        }
      ]
    },
    {
      "cell_type": "code",
      "metadata": {
        "id": "SwUyBpwF4u7L",
        "colab": {
          "base_uri": "https://localhost:8080/",
          "height": 166
        },
        "outputId": "112b40a6-a7cd-4836-dd72-6d7fe8ee7ce4"
      },
      "source": [
        "# multiple selecting column with list\n",
        "df[['Calon President', 'Jumlah Voting', 'Jenis Kelamin']]"
      ],
      "execution_count": null,
      "outputs": [
        {
          "output_type": "execute_result",
          "data": {
            "text/html": [
              "<div>\n",
              "<style scoped>\n",
              "    .dataframe tbody tr th:only-of-type {\n",
              "        vertical-align: middle;\n",
              "    }\n",
              "\n",
              "    .dataframe tbody tr th {\n",
              "        vertical-align: top;\n",
              "    }\n",
              "\n",
              "    .dataframe thead th {\n",
              "        text-align: right;\n",
              "    }\n",
              "</style>\n",
              "<table border=\"1\" class=\"dataframe\">\n",
              "  <thead>\n",
              "    <tr style=\"text-align: right;\">\n",
              "      <th></th>\n",
              "      <th>Calon President</th>\n",
              "      <th>Jumlah Voting</th>\n",
              "      <th>Jenis Kelamin</th>\n",
              "    </tr>\n",
              "  </thead>\n",
              "  <tbody>\n",
              "    <tr>\n",
              "      <th>0</th>\n",
              "      <td>Imam</td>\n",
              "      <td>100</td>\n",
              "      <td>L</td>\n",
              "    </tr>\n",
              "    <tr>\n",
              "      <th>1</th>\n",
              "      <td>Abrar</td>\n",
              "      <td>50</td>\n",
              "      <td>L</td>\n",
              "    </tr>\n",
              "    <tr>\n",
              "      <th>2</th>\n",
              "      <td>Muthia</td>\n",
              "      <td>60</td>\n",
              "      <td>P</td>\n",
              "    </tr>\n",
              "    <tr>\n",
              "      <th>3</th>\n",
              "      <td>Itha</td>\n",
              "      <td>20</td>\n",
              "      <td>P</td>\n",
              "    </tr>\n",
              "  </tbody>\n",
              "</table>\n",
              "</div>"
            ],
            "text/plain": [
              "  Calon President  Jumlah Voting Jenis Kelamin\n",
              "0            Imam            100             L\n",
              "1           Abrar             50             L\n",
              "2          Muthia             60             P\n",
              "3            Itha             20             P"
            ]
          },
          "metadata": {
            "tags": []
          },
          "execution_count": 61
        }
      ]
    },
    {
      "cell_type": "code",
      "metadata": {
        "id": "A2dTS69e45qJ",
        "colab": {
          "base_uri": "https://localhost:8080/",
          "height": 166
        },
        "outputId": "122dec8d-330b-49d6-b7ef-22bbc08b15a7"
      },
      "source": [
        "# menyimpan hasil pemilihan ke dalam variable\n",
        "df2 = df[['Calon President', 'Jumlah Voting']]\n",
        "df2"
      ],
      "execution_count": null,
      "outputs": [
        {
          "output_type": "execute_result",
          "data": {
            "text/html": [
              "<div>\n",
              "<style scoped>\n",
              "    .dataframe tbody tr th:only-of-type {\n",
              "        vertical-align: middle;\n",
              "    }\n",
              "\n",
              "    .dataframe tbody tr th {\n",
              "        vertical-align: top;\n",
              "    }\n",
              "\n",
              "    .dataframe thead th {\n",
              "        text-align: right;\n",
              "    }\n",
              "</style>\n",
              "<table border=\"1\" class=\"dataframe\">\n",
              "  <thead>\n",
              "    <tr style=\"text-align: right;\">\n",
              "      <th></th>\n",
              "      <th>Calon President</th>\n",
              "      <th>Jumlah Voting</th>\n",
              "    </tr>\n",
              "  </thead>\n",
              "  <tbody>\n",
              "    <tr>\n",
              "      <th>0</th>\n",
              "      <td>Imam</td>\n",
              "      <td>100</td>\n",
              "    </tr>\n",
              "    <tr>\n",
              "      <th>1</th>\n",
              "      <td>Abrar</td>\n",
              "      <td>50</td>\n",
              "    </tr>\n",
              "    <tr>\n",
              "      <th>2</th>\n",
              "      <td>Muthia</td>\n",
              "      <td>60</td>\n",
              "    </tr>\n",
              "    <tr>\n",
              "      <th>3</th>\n",
              "      <td>Itha</td>\n",
              "      <td>20</td>\n",
              "    </tr>\n",
              "  </tbody>\n",
              "</table>\n",
              "</div>"
            ],
            "text/plain": [
              "  Calon President  Jumlah Voting\n",
              "0            Imam            100\n",
              "1           Abrar             50\n",
              "2          Muthia             60\n",
              "3            Itha             20"
            ]
          },
          "metadata": {
            "tags": []
          },
          "execution_count": 62
        }
      ]
    },
    {
      "cell_type": "code",
      "metadata": {
        "id": "Sc94if06mHfg",
        "colab": {
          "base_uri": "https://localhost:8080/",
          "height": 166
        },
        "outputId": "59ead7d6-d3ba-43bb-b8d7-a4ac0749429b"
      },
      "source": [
        "df[df.columns[1:3]]"
      ],
      "execution_count": null,
      "outputs": [
        {
          "output_type": "execute_result",
          "data": {
            "text/html": [
              "<div>\n",
              "<style scoped>\n",
              "    .dataframe tbody tr th:only-of-type {\n",
              "        vertical-align: middle;\n",
              "    }\n",
              "\n",
              "    .dataframe tbody tr th {\n",
              "        vertical-align: top;\n",
              "    }\n",
              "\n",
              "    .dataframe thead th {\n",
              "        text-align: right;\n",
              "    }\n",
              "</style>\n",
              "<table border=\"1\" class=\"dataframe\">\n",
              "  <thead>\n",
              "    <tr style=\"text-align: right;\">\n",
              "      <th></th>\n",
              "      <th>Umur</th>\n",
              "      <th>Alamat</th>\n",
              "    </tr>\n",
              "  </thead>\n",
              "  <tbody>\n",
              "    <tr>\n",
              "      <th>0</th>\n",
              "      <td>12</td>\n",
              "      <td>Jln.1</td>\n",
              "    </tr>\n",
              "    <tr>\n",
              "      <th>1</th>\n",
              "      <td>34</td>\n",
              "      <td>Jln.2</td>\n",
              "    </tr>\n",
              "    <tr>\n",
              "      <th>2</th>\n",
              "      <td>5</td>\n",
              "      <td>Jln.3</td>\n",
              "    </tr>\n",
              "    <tr>\n",
              "      <th>3</th>\n",
              "      <td>67</td>\n",
              "      <td>Jln.4</td>\n",
              "    </tr>\n",
              "  </tbody>\n",
              "</table>\n",
              "</div>"
            ],
            "text/plain": [
              "   Umur Alamat\n",
              "0    12  Jln.1\n",
              "1    34  Jln.2\n",
              "2     5  Jln.3\n",
              "3    67  Jln.4"
            ]
          },
          "metadata": {
            "tags": []
          },
          "execution_count": 63
        }
      ]
    },
    {
      "cell_type": "code",
      "metadata": {
        "id": "xhCl_tlm8iAT",
        "colab": {
          "base_uri": "https://localhost:8080/",
          "height": 254
        },
        "outputId": "7d30f51b-98f6-415c-eac7-e4142ee99105"
      },
      "source": [
        "import pandas as pd\n",
        "\n",
        "d = {'one' : pd.Series([1, 2, 3], index=['a', 'b', 'c']),\n",
        "   'two' : pd.Series([1, 2, 3, 4], index=['a', 'b', 'c', 'd'])}\n",
        "\n",
        "df = pd.DataFrame(d)\n",
        "print(df['one'])\n",
        "df"
      ],
      "execution_count": null,
      "outputs": [
        {
          "output_type": "stream",
          "text": [
            "a    1.0\n",
            "b    2.0\n",
            "c    3.0\n",
            "d    NaN\n",
            "Name: one, dtype: float64\n"
          ],
          "name": "stdout"
        },
        {
          "output_type": "execute_result",
          "data": {
            "text/html": [
              "<div>\n",
              "<style scoped>\n",
              "    .dataframe tbody tr th:only-of-type {\n",
              "        vertical-align: middle;\n",
              "    }\n",
              "\n",
              "    .dataframe tbody tr th {\n",
              "        vertical-align: top;\n",
              "    }\n",
              "\n",
              "    .dataframe thead th {\n",
              "        text-align: right;\n",
              "    }\n",
              "</style>\n",
              "<table border=\"1\" class=\"dataframe\">\n",
              "  <thead>\n",
              "    <tr style=\"text-align: right;\">\n",
              "      <th></th>\n",
              "      <th>one</th>\n",
              "      <th>two</th>\n",
              "    </tr>\n",
              "  </thead>\n",
              "  <tbody>\n",
              "    <tr>\n",
              "      <th>a</th>\n",
              "      <td>1.0</td>\n",
              "      <td>1</td>\n",
              "    </tr>\n",
              "    <tr>\n",
              "      <th>b</th>\n",
              "      <td>2.0</td>\n",
              "      <td>2</td>\n",
              "    </tr>\n",
              "    <tr>\n",
              "      <th>c</th>\n",
              "      <td>3.0</td>\n",
              "      <td>3</td>\n",
              "    </tr>\n",
              "    <tr>\n",
              "      <th>d</th>\n",
              "      <td>NaN</td>\n",
              "      <td>4</td>\n",
              "    </tr>\n",
              "  </tbody>\n",
              "</table>\n",
              "</div>"
            ],
            "text/plain": [
              "   one  two\n",
              "a  1.0    1\n",
              "b  2.0    2\n",
              "c  3.0    3\n",
              "d  NaN    4"
            ]
          },
          "metadata": {
            "tags": []
          },
          "execution_count": 64
        }
      ]
    },
    {
      "cell_type": "code",
      "metadata": {
        "id": "V_202w_AgVHd",
        "colab": {
          "base_uri": "https://localhost:8080/"
        },
        "outputId": "10cdd6a4-cd8b-400f-d0b0-adf2afc8ef6f"
      },
      "source": [
        "df['two']['b']"
      ],
      "execution_count": null,
      "outputs": [
        {
          "output_type": "execute_result",
          "data": {
            "text/plain": [
              "2"
            ]
          },
          "metadata": {
            "tags": []
          },
          "execution_count": 65
        }
      ]
    },
    {
      "cell_type": "code",
      "metadata": {
        "colab": {
          "base_uri": "https://localhost:8080/"
        },
        "id": "l6qPGas022Ew",
        "outputId": "00998b68-4718-486c-f2eb-991f6e1adbc7"
      },
      "source": [
        "type(df.loc['b'])"
      ],
      "execution_count": null,
      "outputs": [
        {
          "output_type": "execute_result",
          "data": {
            "text/plain": [
              "pandas.core.series.Series"
            ]
          },
          "metadata": {
            "tags": []
          },
          "execution_count": 66
        }
      ]
    },
    {
      "cell_type": "code",
      "metadata": {
        "colab": {
          "base_uri": "https://localhost:8080/"
        },
        "id": "RTeK3Flx28C4",
        "outputId": "de500b17-334b-4a76-a72f-11578777b2e0"
      },
      "source": [
        "df.loc['b']"
      ],
      "execution_count": null,
      "outputs": [
        {
          "output_type": "execute_result",
          "data": {
            "text/plain": [
              "one    2.0\n",
              "two    2.0\n",
              "Name: b, dtype: float64"
            ]
          },
          "metadata": {
            "tags": []
          },
          "execution_count": 67
        }
      ]
    },
    {
      "cell_type": "code",
      "metadata": {
        "id": "VsKJJhhihFyq",
        "colab": {
          "base_uri": "https://localhost:8080/"
        },
        "outputId": "922965a8-f8eb-4094-b578-c9412a1b5885"
      },
      "source": [
        "df.loc['b'].two"
      ],
      "execution_count": null,
      "outputs": [
        {
          "output_type": "execute_result",
          "data": {
            "text/plain": [
              "2.0"
            ]
          },
          "metadata": {
            "tags": []
          },
          "execution_count": 68
        }
      ]
    },
    {
      "cell_type": "code",
      "metadata": {
        "colab": {
          "base_uri": "https://localhost:8080/"
        },
        "id": "HotCNLYb2tYY",
        "outputId": "5d78aed0-85d7-445d-e380-9ad0ac3de9fc"
      },
      "source": [
        "type(df.iloc[3])"
      ],
      "execution_count": null,
      "outputs": [
        {
          "output_type": "execute_result",
          "data": {
            "text/plain": [
              "pandas.core.series.Series"
            ]
          },
          "metadata": {
            "tags": []
          },
          "execution_count": 69
        }
      ]
    },
    {
      "cell_type": "code",
      "metadata": {
        "colab": {
          "base_uri": "https://localhost:8080/"
        },
        "id": "XJk93T2D2_it",
        "outputId": "dbf8ec94-dea4-492b-f5df-d1a8bf0572e3"
      },
      "source": [
        "df.iloc[3]"
      ],
      "execution_count": null,
      "outputs": [
        {
          "output_type": "execute_result",
          "data": {
            "text/plain": [
              "one    NaN\n",
              "two    4.0\n",
              "Name: d, dtype: float64"
            ]
          },
          "metadata": {
            "tags": []
          },
          "execution_count": 70
        }
      ]
    },
    {
      "cell_type": "code",
      "metadata": {
        "id": "7DSY8fLohSt6",
        "colab": {
          "base_uri": "https://localhost:8080/"
        },
        "outputId": "38a4b20d-980f-4a2a-bdc5-43951dbb41ec"
      },
      "source": [
        "df.iloc[3].iloc[1]"
      ],
      "execution_count": null,
      "outputs": [
        {
          "output_type": "execute_result",
          "data": {
            "text/plain": [
              "4.0"
            ]
          },
          "metadata": {
            "tags": []
          },
          "execution_count": 71
        }
      ]
    },
    {
      "cell_type": "code",
      "metadata": {
        "colab": {
          "base_uri": "https://localhost:8080/"
        },
        "id": "IKEcOeO4_Z6d",
        "outputId": "2d78b0bd-4ecc-4d81-e002-9de1e84f5941"
      },
      "source": [
        "df.iloc[3, 1]"
      ],
      "execution_count": null,
      "outputs": [
        {
          "output_type": "execute_result",
          "data": {
            "text/plain": [
              "4"
            ]
          },
          "metadata": {
            "tags": []
          },
          "execution_count": 72
        }
      ]
    },
    {
      "cell_type": "code",
      "metadata": {
        "id": "fYz3pl8qhlHV",
        "colab": {
          "base_uri": "https://localhost:8080/"
        },
        "outputId": "f8538670-b156-4023-97be-ea4928d1d722"
      },
      "source": [
        "df.loc['d'].loc['two']"
      ],
      "execution_count": null,
      "outputs": [
        {
          "output_type": "execute_result",
          "data": {
            "text/plain": [
              "4.0"
            ]
          },
          "metadata": {
            "tags": []
          },
          "execution_count": 73
        }
      ]
    },
    {
      "cell_type": "code",
      "metadata": {
        "id": "UdCMiTLQPOnK",
        "colab": {
          "base_uri": "https://localhost:8080/",
          "height": 166
        },
        "outputId": "5d5b4338-2376-4200-82ba-3a6c8b88160d"
      },
      "source": [
        "import pandas as pd\n",
        "\n",
        "df = pd.DataFrame({'Siswa': ['Imam', 'Abrar', 'Muthia', 'Itha'],\n",
        "                   'Umur' : [12,34,5,67],\n",
        "                   'Alamat' : ['Jln.1', 'Jln.2', 'Jln.3', 'Jln.4'],\n",
        "                   'Jenis Kelamin':['L', 'L', 'P', 'P']})\n",
        "df"
      ],
      "execution_count": null,
      "outputs": [
        {
          "output_type": "execute_result",
          "data": {
            "text/html": [
              "<div>\n",
              "<style scoped>\n",
              "    .dataframe tbody tr th:only-of-type {\n",
              "        vertical-align: middle;\n",
              "    }\n",
              "\n",
              "    .dataframe tbody tr th {\n",
              "        vertical-align: top;\n",
              "    }\n",
              "\n",
              "    .dataframe thead th {\n",
              "        text-align: right;\n",
              "    }\n",
              "</style>\n",
              "<table border=\"1\" class=\"dataframe\">\n",
              "  <thead>\n",
              "    <tr style=\"text-align: right;\">\n",
              "      <th></th>\n",
              "      <th>Siswa</th>\n",
              "      <th>Umur</th>\n",
              "      <th>Alamat</th>\n",
              "      <th>Jenis Kelamin</th>\n",
              "    </tr>\n",
              "  </thead>\n",
              "  <tbody>\n",
              "    <tr>\n",
              "      <th>0</th>\n",
              "      <td>Imam</td>\n",
              "      <td>12</td>\n",
              "      <td>Jln.1</td>\n",
              "      <td>L</td>\n",
              "    </tr>\n",
              "    <tr>\n",
              "      <th>1</th>\n",
              "      <td>Abrar</td>\n",
              "      <td>34</td>\n",
              "      <td>Jln.2</td>\n",
              "      <td>L</td>\n",
              "    </tr>\n",
              "    <tr>\n",
              "      <th>2</th>\n",
              "      <td>Muthia</td>\n",
              "      <td>5</td>\n",
              "      <td>Jln.3</td>\n",
              "      <td>P</td>\n",
              "    </tr>\n",
              "    <tr>\n",
              "      <th>3</th>\n",
              "      <td>Itha</td>\n",
              "      <td>67</td>\n",
              "      <td>Jln.4</td>\n",
              "      <td>P</td>\n",
              "    </tr>\n",
              "  </tbody>\n",
              "</table>\n",
              "</div>"
            ],
            "text/plain": [
              "    Siswa  Umur Alamat Jenis Kelamin\n",
              "0    Imam    12  Jln.1             L\n",
              "1   Abrar    34  Jln.2             L\n",
              "2  Muthia     5  Jln.3             P\n",
              "3    Itha    67  Jln.4             P"
            ]
          },
          "metadata": {
            "tags": []
          },
          "execution_count": 74
        }
      ]
    },
    {
      "cell_type": "code",
      "metadata": {
        "id": "09xMmqW0PhJg",
        "colab": {
          "base_uri": "https://localhost:8080/",
          "height": 136
        },
        "outputId": "f3ac971e-e17a-4103-8789-46392d72c535"
      },
      "source": [
        "df[df['Umur'] >= 12]"
      ],
      "execution_count": null,
      "outputs": [
        {
          "output_type": "execute_result",
          "data": {
            "text/html": [
              "<div>\n",
              "<style scoped>\n",
              "    .dataframe tbody tr th:only-of-type {\n",
              "        vertical-align: middle;\n",
              "    }\n",
              "\n",
              "    .dataframe tbody tr th {\n",
              "        vertical-align: top;\n",
              "    }\n",
              "\n",
              "    .dataframe thead th {\n",
              "        text-align: right;\n",
              "    }\n",
              "</style>\n",
              "<table border=\"1\" class=\"dataframe\">\n",
              "  <thead>\n",
              "    <tr style=\"text-align: right;\">\n",
              "      <th></th>\n",
              "      <th>Siswa</th>\n",
              "      <th>Umur</th>\n",
              "      <th>Alamat</th>\n",
              "      <th>Jenis Kelamin</th>\n",
              "    </tr>\n",
              "  </thead>\n",
              "  <tbody>\n",
              "    <tr>\n",
              "      <th>0</th>\n",
              "      <td>Imam</td>\n",
              "      <td>12</td>\n",
              "      <td>Jln.1</td>\n",
              "      <td>L</td>\n",
              "    </tr>\n",
              "    <tr>\n",
              "      <th>1</th>\n",
              "      <td>Abrar</td>\n",
              "      <td>34</td>\n",
              "      <td>Jln.2</td>\n",
              "      <td>L</td>\n",
              "    </tr>\n",
              "    <tr>\n",
              "      <th>3</th>\n",
              "      <td>Itha</td>\n",
              "      <td>67</td>\n",
              "      <td>Jln.4</td>\n",
              "      <td>P</td>\n",
              "    </tr>\n",
              "  </tbody>\n",
              "</table>\n",
              "</div>"
            ],
            "text/plain": [
              "   Siswa  Umur Alamat Jenis Kelamin\n",
              "0   Imam    12  Jln.1             L\n",
              "1  Abrar    34  Jln.2             L\n",
              "3   Itha    67  Jln.4             P"
            ]
          },
          "metadata": {
            "tags": []
          },
          "execution_count": 75
        }
      ]
    },
    {
      "cell_type": "code",
      "metadata": {
        "id": "dkjxwJ5WPnRG",
        "colab": {
          "base_uri": "https://localhost:8080/",
          "height": 106
        },
        "outputId": "2d9eac88-71dc-483b-d6d9-06654da6ef09"
      },
      "source": [
        "df[(df['Umur'] >= 12) & (df['Jenis Kelamin'] == 'L')]"
      ],
      "execution_count": null,
      "outputs": [
        {
          "output_type": "execute_result",
          "data": {
            "text/html": [
              "<div>\n",
              "<style scoped>\n",
              "    .dataframe tbody tr th:only-of-type {\n",
              "        vertical-align: middle;\n",
              "    }\n",
              "\n",
              "    .dataframe tbody tr th {\n",
              "        vertical-align: top;\n",
              "    }\n",
              "\n",
              "    .dataframe thead th {\n",
              "        text-align: right;\n",
              "    }\n",
              "</style>\n",
              "<table border=\"1\" class=\"dataframe\">\n",
              "  <thead>\n",
              "    <tr style=\"text-align: right;\">\n",
              "      <th></th>\n",
              "      <th>Siswa</th>\n",
              "      <th>Umur</th>\n",
              "      <th>Alamat</th>\n",
              "      <th>Jenis Kelamin</th>\n",
              "    </tr>\n",
              "  </thead>\n",
              "  <tbody>\n",
              "    <tr>\n",
              "      <th>0</th>\n",
              "      <td>Imam</td>\n",
              "      <td>12</td>\n",
              "      <td>Jln.1</td>\n",
              "      <td>L</td>\n",
              "    </tr>\n",
              "    <tr>\n",
              "      <th>1</th>\n",
              "      <td>Abrar</td>\n",
              "      <td>34</td>\n",
              "      <td>Jln.2</td>\n",
              "      <td>L</td>\n",
              "    </tr>\n",
              "  </tbody>\n",
              "</table>\n",
              "</div>"
            ],
            "text/plain": [
              "   Siswa  Umur Alamat Jenis Kelamin\n",
              "0   Imam    12  Jln.1             L\n",
              "1  Abrar    34  Jln.2             L"
            ]
          },
          "metadata": {
            "tags": []
          },
          "execution_count": 76
        }
      ]
    },
    {
      "cell_type": "markdown",
      "metadata": {
        "id": "Ddg_x9R0CCFN"
      },
      "source": [
        "### df.column"
      ]
    },
    {
      "cell_type": "code",
      "metadata": {
        "id": "f3TQ4kNMCQGc",
        "colab": {
          "base_uri": "https://localhost:8080/",
          "height": 166
        },
        "outputId": "847c53de-99ed-458c-ab21-42716b08868f"
      },
      "source": [
        "import pandas as pd\n",
        "\n",
        "df = pd.DataFrame({'Calon President': ['Imam', 'Abrar', 'Muthia', 'Itha'],\n",
        "                   'Umur' : [12,34,5,67],\n",
        "                   'Alamat' : ['Jln.1', 'Jln.2', 'Jln.3', 'Jln.4'],\n",
        "                   'Jumlah Voting': [100, 50, 60, 20],\n",
        "                   'Jenis Kelamin':['L', 'L', 'P', 'P'],\n",
        "                   'Negara':['Indonesia', 'Australia', 'Amerika', 'Mesir']})\n",
        "df"
      ],
      "execution_count": null,
      "outputs": [
        {
          "output_type": "execute_result",
          "data": {
            "text/html": [
              "<div>\n",
              "<style scoped>\n",
              "    .dataframe tbody tr th:only-of-type {\n",
              "        vertical-align: middle;\n",
              "    }\n",
              "\n",
              "    .dataframe tbody tr th {\n",
              "        vertical-align: top;\n",
              "    }\n",
              "\n",
              "    .dataframe thead th {\n",
              "        text-align: right;\n",
              "    }\n",
              "</style>\n",
              "<table border=\"1\" class=\"dataframe\">\n",
              "  <thead>\n",
              "    <tr style=\"text-align: right;\">\n",
              "      <th></th>\n",
              "      <th>Calon President</th>\n",
              "      <th>Umur</th>\n",
              "      <th>Alamat</th>\n",
              "      <th>Jumlah Voting</th>\n",
              "      <th>Jenis Kelamin</th>\n",
              "      <th>Negara</th>\n",
              "    </tr>\n",
              "  </thead>\n",
              "  <tbody>\n",
              "    <tr>\n",
              "      <th>0</th>\n",
              "      <td>Imam</td>\n",
              "      <td>12</td>\n",
              "      <td>Jln.1</td>\n",
              "      <td>100</td>\n",
              "      <td>L</td>\n",
              "      <td>Indonesia</td>\n",
              "    </tr>\n",
              "    <tr>\n",
              "      <th>1</th>\n",
              "      <td>Abrar</td>\n",
              "      <td>34</td>\n",
              "      <td>Jln.2</td>\n",
              "      <td>50</td>\n",
              "      <td>L</td>\n",
              "      <td>Australia</td>\n",
              "    </tr>\n",
              "    <tr>\n",
              "      <th>2</th>\n",
              "      <td>Muthia</td>\n",
              "      <td>5</td>\n",
              "      <td>Jln.3</td>\n",
              "      <td>60</td>\n",
              "      <td>P</td>\n",
              "      <td>Amerika</td>\n",
              "    </tr>\n",
              "    <tr>\n",
              "      <th>3</th>\n",
              "      <td>Itha</td>\n",
              "      <td>67</td>\n",
              "      <td>Jln.4</td>\n",
              "      <td>20</td>\n",
              "      <td>P</td>\n",
              "      <td>Mesir</td>\n",
              "    </tr>\n",
              "  </tbody>\n",
              "</table>\n",
              "</div>"
            ],
            "text/plain": [
              "  Calon President  Umur Alamat  Jumlah Voting Jenis Kelamin     Negara\n",
              "0            Imam    12  Jln.1            100             L  Indonesia\n",
              "1           Abrar    34  Jln.2             50             L  Australia\n",
              "2          Muthia     5  Jln.3             60             P    Amerika\n",
              "3            Itha    67  Jln.4             20             P      Mesir"
            ]
          },
          "metadata": {
            "tags": []
          },
          "execution_count": 77
        }
      ]
    },
    {
      "cell_type": "code",
      "metadata": {
        "id": "YRsD2LvKFQWl",
        "colab": {
          "base_uri": "https://localhost:8080/"
        },
        "outputId": "ac48be79-dded-4090-8890-97e9dfff05a8"
      },
      "source": [
        "df.Umur # series"
      ],
      "execution_count": null,
      "outputs": [
        {
          "output_type": "execute_result",
          "data": {
            "text/plain": [
              "0    12\n",
              "1    34\n",
              "2     5\n",
              "3    67\n",
              "Name: Umur, dtype: int64"
            ]
          },
          "metadata": {
            "tags": []
          },
          "execution_count": 78
        }
      ]
    },
    {
      "cell_type": "code",
      "metadata": {
        "id": "3cdY9ZwAlgR6",
        "colab": {
          "base_uri": "https://localhost:8080/"
        },
        "outputId": "a6f33090-04dc-4e8c-d462-be95bbf15ef5"
      },
      "source": [
        "df.Umur[2]"
      ],
      "execution_count": null,
      "outputs": [
        {
          "output_type": "execute_result",
          "data": {
            "text/plain": [
              "5"
            ]
          },
          "metadata": {
            "tags": []
          },
          "execution_count": 79
        }
      ]
    },
    {
      "cell_type": "code",
      "metadata": {
        "id": "fsGaDjyylugk",
        "colab": {
          "base_uri": "https://localhost:8080/"
        },
        "outputId": "566eb95a-1a70-4095-f02a-e691d6780d41"
      },
      "source": [
        "df.Umur[0:2]"
      ],
      "execution_count": null,
      "outputs": [
        {
          "output_type": "execute_result",
          "data": {
            "text/plain": [
              "0    12\n",
              "1    34\n",
              "Name: Umur, dtype: int64"
            ]
          },
          "metadata": {
            "tags": []
          },
          "execution_count": 80
        }
      ]
    },
    {
      "cell_type": "code",
      "metadata": {
        "id": "SyJZyhmelzmp",
        "colab": {
          "base_uri": "https://localhost:8080/",
          "height": 166
        },
        "outputId": "b9eac932-467c-494d-98b2-5fc38271fcdf"
      },
      "source": [
        "df[df.columns[1:3]]"
      ],
      "execution_count": null,
      "outputs": [
        {
          "output_type": "execute_result",
          "data": {
            "text/html": [
              "<div>\n",
              "<style scoped>\n",
              "    .dataframe tbody tr th:only-of-type {\n",
              "        vertical-align: middle;\n",
              "    }\n",
              "\n",
              "    .dataframe tbody tr th {\n",
              "        vertical-align: top;\n",
              "    }\n",
              "\n",
              "    .dataframe thead th {\n",
              "        text-align: right;\n",
              "    }\n",
              "</style>\n",
              "<table border=\"1\" class=\"dataframe\">\n",
              "  <thead>\n",
              "    <tr style=\"text-align: right;\">\n",
              "      <th></th>\n",
              "      <th>Umur</th>\n",
              "      <th>Alamat</th>\n",
              "    </tr>\n",
              "  </thead>\n",
              "  <tbody>\n",
              "    <tr>\n",
              "      <th>0</th>\n",
              "      <td>12</td>\n",
              "      <td>Jln.1</td>\n",
              "    </tr>\n",
              "    <tr>\n",
              "      <th>1</th>\n",
              "      <td>34</td>\n",
              "      <td>Jln.2</td>\n",
              "    </tr>\n",
              "    <tr>\n",
              "      <th>2</th>\n",
              "      <td>5</td>\n",
              "      <td>Jln.3</td>\n",
              "    </tr>\n",
              "    <tr>\n",
              "      <th>3</th>\n",
              "      <td>67</td>\n",
              "      <td>Jln.4</td>\n",
              "    </tr>\n",
              "  </tbody>\n",
              "</table>\n",
              "</div>"
            ],
            "text/plain": [
              "   Umur Alamat\n",
              "0    12  Jln.1\n",
              "1    34  Jln.2\n",
              "2     5  Jln.3\n",
              "3    67  Jln.4"
            ]
          },
          "metadata": {
            "tags": []
          },
          "execution_count": 81
        }
      ]
    },
    {
      "cell_type": "markdown",
      "metadata": {
        "id": "cE1ZHmWgB78I"
      },
      "source": [
        "### df.loc[ : , : ] and df.loc[ [index/filtering] , [ col] ] (label)\n",
        "\n",
        "***label*** indexing and slicing\n",
        "\n",
        "**select row**\n",
        "\n",
        "> df.loc[idx_row]\n",
        "\n",
        "> df.loc[idx_row_start:idx_row_end]\n",
        "\n",
        "> df.loc[[row1,row2,row3,row n]]\n",
        "\n",
        "**select columns**\n",
        "\n",
        "> df.loc[ : , col]\n",
        "\n",
        "> df.loc[ : , col_start:col_end]\n",
        "\n",
        "> df.loc[ : , [col1, col2, col3, col n]]\n",
        "\n",
        "slicing (select cols and rows)\n",
        "\n",
        "> df.loc[idx_row_start:idx_row_end, col_start:col_end]\n",
        "\n",
        "select with indexing\n",
        "\n",
        "> df.loc[[row1,row2,row3,row n], [col1, col2, col3, col n]]\n",
        "\n",
        "filtering\n",
        "\n",
        "> df.loc[df['column_name'] == some_value]\n",
        "\n",
        "> df.loc[df['column_name'] == some_value]\n",
        "\n",
        "iterable\n",
        "\n",
        "> df.loc[df['column_name'].isin(some_values)]\n",
        "\n",
        "combine with Operator Logical\n",
        "\n",
        "> df.loc[(df['column_name'] >= A) & (df['column_name'] <= B)]\n",
        "\n",
        "......................................................................................\n",
        "\n",
        "[DataFrame.loc](https://pandas.pydata.org/pandas-docs/version/0.23.1/generated/pandas.DataFrame.loc.html)\n",
        "\n",
        "Access a group of rows and columns by label(s) or a boolean array.\n",
        "\n",
        ".loc[] is primarily label based, but may also be used with a boolean array.\n",
        "\n",
        "Allowed inputs are:\n",
        "\n",
        "* A single label, e.g. 5 or 'a', (note that 5 is interpreted as a label of the index, and never as an integer position along the index).\n",
        "\n",
        "* A list or array of labels, e.g. ['a', 'b', 'c'].\n",
        "\n",
        "* A slice object with labels, e.g. 'a':'f'.\n",
        "\n",
        "`Warning Note that contrary to usual python slices, both the start and the stop are included`\n",
        "\n",
        "* A boolean array of the same length as the axis being sliced, e.g. [True, False, True].\n",
        "\n",
        "A callable function with one argument (the calling Series, DataFrame or Panel) and that returns valid output for indexing (one of the above)\n",
        "\n"
      ]
    },
    {
      "cell_type": "code",
      "metadata": {
        "id": "4BE_JWoHC8t3",
        "colab": {
          "base_uri": "https://localhost:8080/",
          "height": 166
        },
        "outputId": "5896730f-01cd-4c5b-9c94-351acc5db72a"
      },
      "source": [
        "import pandas as pd\n",
        "\n",
        "df = pd.DataFrame({'Calon President': ['Imam', 'Abrar', 'Muthia', 'Itha'],\n",
        "                   'Umur' : [12,34,5,67],\n",
        "                   'Alamat' : ['Jln.1', 'Jln.2', 'Jln.3', 'Jln.4'],\n",
        "                   'Jumlah Voting': [100, 50, 60, 20],\n",
        "                   'Jenis Kelamin':['L', 'L', 'P', 'P'],\n",
        "                   'Negara':['Indonesia', 'Australia', 'Amerika', 'Mesir']})\n",
        "df"
      ],
      "execution_count": null,
      "outputs": [
        {
          "output_type": "execute_result",
          "data": {
            "text/html": [
              "<div>\n",
              "<style scoped>\n",
              "    .dataframe tbody tr th:only-of-type {\n",
              "        vertical-align: middle;\n",
              "    }\n",
              "\n",
              "    .dataframe tbody tr th {\n",
              "        vertical-align: top;\n",
              "    }\n",
              "\n",
              "    .dataframe thead th {\n",
              "        text-align: right;\n",
              "    }\n",
              "</style>\n",
              "<table border=\"1\" class=\"dataframe\">\n",
              "  <thead>\n",
              "    <tr style=\"text-align: right;\">\n",
              "      <th></th>\n",
              "      <th>Calon President</th>\n",
              "      <th>Umur</th>\n",
              "      <th>Alamat</th>\n",
              "      <th>Jumlah Voting</th>\n",
              "      <th>Jenis Kelamin</th>\n",
              "      <th>Negara</th>\n",
              "    </tr>\n",
              "  </thead>\n",
              "  <tbody>\n",
              "    <tr>\n",
              "      <th>0</th>\n",
              "      <td>Imam</td>\n",
              "      <td>12</td>\n",
              "      <td>Jln.1</td>\n",
              "      <td>100</td>\n",
              "      <td>L</td>\n",
              "      <td>Indonesia</td>\n",
              "    </tr>\n",
              "    <tr>\n",
              "      <th>1</th>\n",
              "      <td>Abrar</td>\n",
              "      <td>34</td>\n",
              "      <td>Jln.2</td>\n",
              "      <td>50</td>\n",
              "      <td>L</td>\n",
              "      <td>Australia</td>\n",
              "    </tr>\n",
              "    <tr>\n",
              "      <th>2</th>\n",
              "      <td>Muthia</td>\n",
              "      <td>5</td>\n",
              "      <td>Jln.3</td>\n",
              "      <td>60</td>\n",
              "      <td>P</td>\n",
              "      <td>Amerika</td>\n",
              "    </tr>\n",
              "    <tr>\n",
              "      <th>3</th>\n",
              "      <td>Itha</td>\n",
              "      <td>67</td>\n",
              "      <td>Jln.4</td>\n",
              "      <td>20</td>\n",
              "      <td>P</td>\n",
              "      <td>Mesir</td>\n",
              "    </tr>\n",
              "  </tbody>\n",
              "</table>\n",
              "</div>"
            ],
            "text/plain": [
              "  Calon President  Umur Alamat  Jumlah Voting Jenis Kelamin     Negara\n",
              "0            Imam    12  Jln.1            100             L  Indonesia\n",
              "1           Abrar    34  Jln.2             50             L  Australia\n",
              "2          Muthia     5  Jln.3             60             P    Amerika\n",
              "3            Itha    67  Jln.4             20             P      Mesir"
            ]
          },
          "metadata": {
            "tags": []
          },
          "execution_count": 82
        }
      ]
    },
    {
      "cell_type": "code",
      "metadata": {
        "id": "veMRla4XeuVB",
        "colab": {
          "base_uri": "https://localhost:8080/",
          "height": 77
        },
        "outputId": "4b05ef8e-3672-44ca-9e86-09fab7bd77fc"
      },
      "source": [
        "df.loc[[2]]"
      ],
      "execution_count": null,
      "outputs": [
        {
          "output_type": "execute_result",
          "data": {
            "text/html": [
              "<div>\n",
              "<style scoped>\n",
              "    .dataframe tbody tr th:only-of-type {\n",
              "        vertical-align: middle;\n",
              "    }\n",
              "\n",
              "    .dataframe tbody tr th {\n",
              "        vertical-align: top;\n",
              "    }\n",
              "\n",
              "    .dataframe thead th {\n",
              "        text-align: right;\n",
              "    }\n",
              "</style>\n",
              "<table border=\"1\" class=\"dataframe\">\n",
              "  <thead>\n",
              "    <tr style=\"text-align: right;\">\n",
              "      <th></th>\n",
              "      <th>Calon President</th>\n",
              "      <th>Umur</th>\n",
              "      <th>Alamat</th>\n",
              "      <th>Jumlah Voting</th>\n",
              "      <th>Jenis Kelamin</th>\n",
              "      <th>Negara</th>\n",
              "    </tr>\n",
              "  </thead>\n",
              "  <tbody>\n",
              "    <tr>\n",
              "      <th>2</th>\n",
              "      <td>Muthia</td>\n",
              "      <td>5</td>\n",
              "      <td>Jln.3</td>\n",
              "      <td>60</td>\n",
              "      <td>P</td>\n",
              "      <td>Amerika</td>\n",
              "    </tr>\n",
              "  </tbody>\n",
              "</table>\n",
              "</div>"
            ],
            "text/plain": [
              "  Calon President  Umur Alamat  Jumlah Voting Jenis Kelamin   Negara\n",
              "2          Muthia     5  Jln.3             60             P  Amerika"
            ]
          },
          "metadata": {
            "tags": []
          },
          "execution_count": 83
        }
      ]
    },
    {
      "cell_type": "code",
      "metadata": {
        "id": "ssW5CEPfeyhQ",
        "colab": {
          "base_uri": "https://localhost:8080/",
          "height": 166
        },
        "outputId": "f4b3a655-755c-4b07-d58d-75beb24b9bc0"
      },
      "source": [
        "df.loc[:,['Negara']]"
      ],
      "execution_count": null,
      "outputs": [
        {
          "output_type": "execute_result",
          "data": {
            "text/html": [
              "<div>\n",
              "<style scoped>\n",
              "    .dataframe tbody tr th:only-of-type {\n",
              "        vertical-align: middle;\n",
              "    }\n",
              "\n",
              "    .dataframe tbody tr th {\n",
              "        vertical-align: top;\n",
              "    }\n",
              "\n",
              "    .dataframe thead th {\n",
              "        text-align: right;\n",
              "    }\n",
              "</style>\n",
              "<table border=\"1\" class=\"dataframe\">\n",
              "  <thead>\n",
              "    <tr style=\"text-align: right;\">\n",
              "      <th></th>\n",
              "      <th>Negara</th>\n",
              "    </tr>\n",
              "  </thead>\n",
              "  <tbody>\n",
              "    <tr>\n",
              "      <th>0</th>\n",
              "      <td>Indonesia</td>\n",
              "    </tr>\n",
              "    <tr>\n",
              "      <th>1</th>\n",
              "      <td>Australia</td>\n",
              "    </tr>\n",
              "    <tr>\n",
              "      <th>2</th>\n",
              "      <td>Amerika</td>\n",
              "    </tr>\n",
              "    <tr>\n",
              "      <th>3</th>\n",
              "      <td>Mesir</td>\n",
              "    </tr>\n",
              "  </tbody>\n",
              "</table>\n",
              "</div>"
            ],
            "text/plain": [
              "      Negara\n",
              "0  Indonesia\n",
              "1  Australia\n",
              "2    Amerika\n",
              "3      Mesir"
            ]
          },
          "metadata": {
            "tags": []
          },
          "execution_count": 84
        }
      ]
    },
    {
      "cell_type": "code",
      "metadata": {
        "id": "jmw1W6dGE52J",
        "colab": {
          "base_uri": "https://localhost:8080/",
          "height": 136
        },
        "outputId": "7f069e26-5ad2-4553-e42a-6e6ffe2e2ae3"
      },
      "source": [
        "df.loc[0:2, 'Calon President':'Jumlah Voting']"
      ],
      "execution_count": null,
      "outputs": [
        {
          "output_type": "execute_result",
          "data": {
            "text/html": [
              "<div>\n",
              "<style scoped>\n",
              "    .dataframe tbody tr th:only-of-type {\n",
              "        vertical-align: middle;\n",
              "    }\n",
              "\n",
              "    .dataframe tbody tr th {\n",
              "        vertical-align: top;\n",
              "    }\n",
              "\n",
              "    .dataframe thead th {\n",
              "        text-align: right;\n",
              "    }\n",
              "</style>\n",
              "<table border=\"1\" class=\"dataframe\">\n",
              "  <thead>\n",
              "    <tr style=\"text-align: right;\">\n",
              "      <th></th>\n",
              "      <th>Calon President</th>\n",
              "      <th>Umur</th>\n",
              "      <th>Alamat</th>\n",
              "      <th>Jumlah Voting</th>\n",
              "    </tr>\n",
              "  </thead>\n",
              "  <tbody>\n",
              "    <tr>\n",
              "      <th>0</th>\n",
              "      <td>Imam</td>\n",
              "      <td>12</td>\n",
              "      <td>Jln.1</td>\n",
              "      <td>100</td>\n",
              "    </tr>\n",
              "    <tr>\n",
              "      <th>1</th>\n",
              "      <td>Abrar</td>\n",
              "      <td>34</td>\n",
              "      <td>Jln.2</td>\n",
              "      <td>50</td>\n",
              "    </tr>\n",
              "    <tr>\n",
              "      <th>2</th>\n",
              "      <td>Muthia</td>\n",
              "      <td>5</td>\n",
              "      <td>Jln.3</td>\n",
              "      <td>60</td>\n",
              "    </tr>\n",
              "  </tbody>\n",
              "</table>\n",
              "</div>"
            ],
            "text/plain": [
              "  Calon President  Umur Alamat  Jumlah Voting\n",
              "0            Imam    12  Jln.1            100\n",
              "1           Abrar    34  Jln.2             50\n",
              "2          Muthia     5  Jln.3             60"
            ]
          },
          "metadata": {
            "tags": []
          },
          "execution_count": 85
        }
      ]
    },
    {
      "cell_type": "code",
      "metadata": {
        "id": "tj8agh0ZHHTl",
        "colab": {
          "base_uri": "https://localhost:8080/",
          "height": 106
        },
        "outputId": "dcac4926-5ddf-4033-fd0d-268473c61deb"
      },
      "source": [
        "df.loc[[0,2], ['Calon President', 'Jumlah Voting']]"
      ],
      "execution_count": null,
      "outputs": [
        {
          "output_type": "execute_result",
          "data": {
            "text/html": [
              "<div>\n",
              "<style scoped>\n",
              "    .dataframe tbody tr th:only-of-type {\n",
              "        vertical-align: middle;\n",
              "    }\n",
              "\n",
              "    .dataframe tbody tr th {\n",
              "        vertical-align: top;\n",
              "    }\n",
              "\n",
              "    .dataframe thead th {\n",
              "        text-align: right;\n",
              "    }\n",
              "</style>\n",
              "<table border=\"1\" class=\"dataframe\">\n",
              "  <thead>\n",
              "    <tr style=\"text-align: right;\">\n",
              "      <th></th>\n",
              "      <th>Calon President</th>\n",
              "      <th>Jumlah Voting</th>\n",
              "    </tr>\n",
              "  </thead>\n",
              "  <tbody>\n",
              "    <tr>\n",
              "      <th>0</th>\n",
              "      <td>Imam</td>\n",
              "      <td>100</td>\n",
              "    </tr>\n",
              "    <tr>\n",
              "      <th>2</th>\n",
              "      <td>Muthia</td>\n",
              "      <td>60</td>\n",
              "    </tr>\n",
              "  </tbody>\n",
              "</table>\n",
              "</div>"
            ],
            "text/plain": [
              "  Calon President  Jumlah Voting\n",
              "0            Imam            100\n",
              "2          Muthia             60"
            ]
          },
          "metadata": {
            "tags": []
          },
          "execution_count": 86
        }
      ]
    },
    {
      "cell_type": "code",
      "metadata": {
        "id": "qPTlg9dFMMO_",
        "colab": {
          "base_uri": "https://localhost:8080/",
          "height": 106
        },
        "outputId": "113c74d8-fb9c-49ca-e024-e754509cb1ac"
      },
      "source": [
        "df.loc[df['Jenis Kelamin'] == 'L']"
      ],
      "execution_count": null,
      "outputs": [
        {
          "output_type": "execute_result",
          "data": {
            "text/html": [
              "<div>\n",
              "<style scoped>\n",
              "    .dataframe tbody tr th:only-of-type {\n",
              "        vertical-align: middle;\n",
              "    }\n",
              "\n",
              "    .dataframe tbody tr th {\n",
              "        vertical-align: top;\n",
              "    }\n",
              "\n",
              "    .dataframe thead th {\n",
              "        text-align: right;\n",
              "    }\n",
              "</style>\n",
              "<table border=\"1\" class=\"dataframe\">\n",
              "  <thead>\n",
              "    <tr style=\"text-align: right;\">\n",
              "      <th></th>\n",
              "      <th>Calon President</th>\n",
              "      <th>Umur</th>\n",
              "      <th>Alamat</th>\n",
              "      <th>Jumlah Voting</th>\n",
              "      <th>Jenis Kelamin</th>\n",
              "      <th>Negara</th>\n",
              "    </tr>\n",
              "  </thead>\n",
              "  <tbody>\n",
              "    <tr>\n",
              "      <th>0</th>\n",
              "      <td>Imam</td>\n",
              "      <td>12</td>\n",
              "      <td>Jln.1</td>\n",
              "      <td>100</td>\n",
              "      <td>L</td>\n",
              "      <td>Indonesia</td>\n",
              "    </tr>\n",
              "    <tr>\n",
              "      <th>1</th>\n",
              "      <td>Abrar</td>\n",
              "      <td>34</td>\n",
              "      <td>Jln.2</td>\n",
              "      <td>50</td>\n",
              "      <td>L</td>\n",
              "      <td>Australia</td>\n",
              "    </tr>\n",
              "  </tbody>\n",
              "</table>\n",
              "</div>"
            ],
            "text/plain": [
              "  Calon President  Umur Alamat  Jumlah Voting Jenis Kelamin     Negara\n",
              "0            Imam    12  Jln.1            100             L  Indonesia\n",
              "1           Abrar    34  Jln.2             50             L  Australia"
            ]
          },
          "metadata": {
            "tags": []
          },
          "execution_count": 87
        }
      ]
    },
    {
      "cell_type": "code",
      "metadata": {
        "id": "WX3qPUV0MXFW",
        "colab": {
          "base_uri": "https://localhost:8080/",
          "height": 106
        },
        "outputId": "74a64527-822e-48e6-c57d-70ac1bf6a440"
      },
      "source": [
        "df.loc[(df['Umur'] >= 12) & (df['Jenis Kelamin'] == 'L')]"
      ],
      "execution_count": null,
      "outputs": [
        {
          "output_type": "execute_result",
          "data": {
            "text/html": [
              "<div>\n",
              "<style scoped>\n",
              "    .dataframe tbody tr th:only-of-type {\n",
              "        vertical-align: middle;\n",
              "    }\n",
              "\n",
              "    .dataframe tbody tr th {\n",
              "        vertical-align: top;\n",
              "    }\n",
              "\n",
              "    .dataframe thead th {\n",
              "        text-align: right;\n",
              "    }\n",
              "</style>\n",
              "<table border=\"1\" class=\"dataframe\">\n",
              "  <thead>\n",
              "    <tr style=\"text-align: right;\">\n",
              "      <th></th>\n",
              "      <th>Calon President</th>\n",
              "      <th>Umur</th>\n",
              "      <th>Alamat</th>\n",
              "      <th>Jumlah Voting</th>\n",
              "      <th>Jenis Kelamin</th>\n",
              "      <th>Negara</th>\n",
              "    </tr>\n",
              "  </thead>\n",
              "  <tbody>\n",
              "    <tr>\n",
              "      <th>0</th>\n",
              "      <td>Imam</td>\n",
              "      <td>12</td>\n",
              "      <td>Jln.1</td>\n",
              "      <td>100</td>\n",
              "      <td>L</td>\n",
              "      <td>Indonesia</td>\n",
              "    </tr>\n",
              "    <tr>\n",
              "      <th>1</th>\n",
              "      <td>Abrar</td>\n",
              "      <td>34</td>\n",
              "      <td>Jln.2</td>\n",
              "      <td>50</td>\n",
              "      <td>L</td>\n",
              "      <td>Australia</td>\n",
              "    </tr>\n",
              "  </tbody>\n",
              "</table>\n",
              "</div>"
            ],
            "text/plain": [
              "  Calon President  Umur Alamat  Jumlah Voting Jenis Kelamin     Negara\n",
              "0            Imam    12  Jln.1            100             L  Indonesia\n",
              "1           Abrar    34  Jln.2             50             L  Australia"
            ]
          },
          "metadata": {
            "tags": []
          },
          "execution_count": 88
        }
      ]
    },
    {
      "cell_type": "code",
      "metadata": {
        "id": "ZqilXyYaSgmR",
        "colab": {
          "base_uri": "https://localhost:8080/",
          "height": 106
        },
        "outputId": "0aba3ec5-33f8-44d6-c8a0-d6bda09470ca"
      },
      "source": [
        "lakilaki = df['Jenis Kelamin'] == 'L'\n",
        "umur = df['Umur'] >= 12\n",
        "df.loc[lakilaki & umur]"
      ],
      "execution_count": null,
      "outputs": [
        {
          "output_type": "execute_result",
          "data": {
            "text/html": [
              "<div>\n",
              "<style scoped>\n",
              "    .dataframe tbody tr th:only-of-type {\n",
              "        vertical-align: middle;\n",
              "    }\n",
              "\n",
              "    .dataframe tbody tr th {\n",
              "        vertical-align: top;\n",
              "    }\n",
              "\n",
              "    .dataframe thead th {\n",
              "        text-align: right;\n",
              "    }\n",
              "</style>\n",
              "<table border=\"1\" class=\"dataframe\">\n",
              "  <thead>\n",
              "    <tr style=\"text-align: right;\">\n",
              "      <th></th>\n",
              "      <th>Calon President</th>\n",
              "      <th>Umur</th>\n",
              "      <th>Alamat</th>\n",
              "      <th>Jumlah Voting</th>\n",
              "      <th>Jenis Kelamin</th>\n",
              "      <th>Negara</th>\n",
              "    </tr>\n",
              "  </thead>\n",
              "  <tbody>\n",
              "    <tr>\n",
              "      <th>0</th>\n",
              "      <td>Imam</td>\n",
              "      <td>12</td>\n",
              "      <td>Jln.1</td>\n",
              "      <td>100</td>\n",
              "      <td>L</td>\n",
              "      <td>Indonesia</td>\n",
              "    </tr>\n",
              "    <tr>\n",
              "      <th>1</th>\n",
              "      <td>Abrar</td>\n",
              "      <td>34</td>\n",
              "      <td>Jln.2</td>\n",
              "      <td>50</td>\n",
              "      <td>L</td>\n",
              "      <td>Australia</td>\n",
              "    </tr>\n",
              "  </tbody>\n",
              "</table>\n",
              "</div>"
            ],
            "text/plain": [
              "  Calon President  Umur Alamat  Jumlah Voting Jenis Kelamin     Negara\n",
              "0            Imam    12  Jln.1            100             L  Indonesia\n",
              "1           Abrar    34  Jln.2             50             L  Australia"
            ]
          },
          "metadata": {
            "tags": []
          },
          "execution_count": 89
        }
      ]
    },
    {
      "cell_type": "code",
      "metadata": {
        "id": "iOCKCACsaUPP",
        "colab": {
          "base_uri": "https://localhost:8080/",
          "height": 225
        },
        "outputId": "9491798a-ce62-4079-a0ac-da0f726b8c87"
      },
      "source": [
        "import pandas as pd\n",
        "\n",
        "d = {'one' : pd.Series([1, 2, 3], index=['a', 'b', 'c']), \n",
        "   'two' : pd.Series([1, 2, 3, 4], index=['a', 'b', 'c', 'd']),\n",
        "   'tree' : pd.Series([1, 2, 3, 4, 5], index=['a', 'b', 'c', 'd', 'e']),\n",
        "   'four' : pd.Series([1, 2, 3, 4, 5, 6], index=['a', 'b', 'c', 'd', 'e', 'f'])}\n",
        "\n",
        "data_frame = pd.DataFrame(d)\n",
        "data_frame"
      ],
      "execution_count": null,
      "outputs": [
        {
          "output_type": "execute_result",
          "data": {
            "text/html": [
              "<div>\n",
              "<style scoped>\n",
              "    .dataframe tbody tr th:only-of-type {\n",
              "        vertical-align: middle;\n",
              "    }\n",
              "\n",
              "    .dataframe tbody tr th {\n",
              "        vertical-align: top;\n",
              "    }\n",
              "\n",
              "    .dataframe thead th {\n",
              "        text-align: right;\n",
              "    }\n",
              "</style>\n",
              "<table border=\"1\" class=\"dataframe\">\n",
              "  <thead>\n",
              "    <tr style=\"text-align: right;\">\n",
              "      <th></th>\n",
              "      <th>one</th>\n",
              "      <th>two</th>\n",
              "      <th>tree</th>\n",
              "      <th>four</th>\n",
              "    </tr>\n",
              "  </thead>\n",
              "  <tbody>\n",
              "    <tr>\n",
              "      <th>a</th>\n",
              "      <td>1.0</td>\n",
              "      <td>1.0</td>\n",
              "      <td>1.0</td>\n",
              "      <td>1</td>\n",
              "    </tr>\n",
              "    <tr>\n",
              "      <th>b</th>\n",
              "      <td>2.0</td>\n",
              "      <td>2.0</td>\n",
              "      <td>2.0</td>\n",
              "      <td>2</td>\n",
              "    </tr>\n",
              "    <tr>\n",
              "      <th>c</th>\n",
              "      <td>3.0</td>\n",
              "      <td>3.0</td>\n",
              "      <td>3.0</td>\n",
              "      <td>3</td>\n",
              "    </tr>\n",
              "    <tr>\n",
              "      <th>d</th>\n",
              "      <td>NaN</td>\n",
              "      <td>4.0</td>\n",
              "      <td>4.0</td>\n",
              "      <td>4</td>\n",
              "    </tr>\n",
              "    <tr>\n",
              "      <th>e</th>\n",
              "      <td>NaN</td>\n",
              "      <td>NaN</td>\n",
              "      <td>5.0</td>\n",
              "      <td>5</td>\n",
              "    </tr>\n",
              "    <tr>\n",
              "      <th>f</th>\n",
              "      <td>NaN</td>\n",
              "      <td>NaN</td>\n",
              "      <td>NaN</td>\n",
              "      <td>6</td>\n",
              "    </tr>\n",
              "  </tbody>\n",
              "</table>\n",
              "</div>"
            ],
            "text/plain": [
              "   one  two  tree  four\n",
              "a  1.0  1.0   1.0     1\n",
              "b  2.0  2.0   2.0     2\n",
              "c  3.0  3.0   3.0     3\n",
              "d  NaN  4.0   4.0     4\n",
              "e  NaN  NaN   5.0     5\n",
              "f  NaN  NaN   NaN     6"
            ]
          },
          "metadata": {
            "tags": []
          },
          "execution_count": 90
        }
      ]
    },
    {
      "cell_type": "code",
      "metadata": {
        "id": "yqv_jRrtnA0N",
        "colab": {
          "base_uri": "https://localhost:8080/",
          "height": 77
        },
        "outputId": "c3b04b89-0035-4993-89e4-aa9d6b605b32"
      },
      "source": [
        "data_frame.loc[['b']]"
      ],
      "execution_count": null,
      "outputs": [
        {
          "output_type": "execute_result",
          "data": {
            "text/html": [
              "<div>\n",
              "<style scoped>\n",
              "    .dataframe tbody tr th:only-of-type {\n",
              "        vertical-align: middle;\n",
              "    }\n",
              "\n",
              "    .dataframe tbody tr th {\n",
              "        vertical-align: top;\n",
              "    }\n",
              "\n",
              "    .dataframe thead th {\n",
              "        text-align: right;\n",
              "    }\n",
              "</style>\n",
              "<table border=\"1\" class=\"dataframe\">\n",
              "  <thead>\n",
              "    <tr style=\"text-align: right;\">\n",
              "      <th></th>\n",
              "      <th>one</th>\n",
              "      <th>two</th>\n",
              "      <th>tree</th>\n",
              "      <th>four</th>\n",
              "    </tr>\n",
              "  </thead>\n",
              "  <tbody>\n",
              "    <tr>\n",
              "      <th>b</th>\n",
              "      <td>2.0</td>\n",
              "      <td>2.0</td>\n",
              "      <td>2.0</td>\n",
              "      <td>2</td>\n",
              "    </tr>\n",
              "  </tbody>\n",
              "</table>\n",
              "</div>"
            ],
            "text/plain": [
              "   one  two  tree  four\n",
              "b  2.0  2.0   2.0     2"
            ]
          },
          "metadata": {
            "tags": []
          },
          "execution_count": 91
        }
      ]
    },
    {
      "cell_type": "code",
      "metadata": {
        "id": "azXpMcB6nPkS",
        "colab": {
          "base_uri": "https://localhost:8080/",
          "height": 136
        },
        "outputId": "5559883b-ad67-4a02-8652-3f7fce330ebe"
      },
      "source": [
        "data_frame.loc['b':'d']"
      ],
      "execution_count": null,
      "outputs": [
        {
          "output_type": "execute_result",
          "data": {
            "text/html": [
              "<div>\n",
              "<style scoped>\n",
              "    .dataframe tbody tr th:only-of-type {\n",
              "        vertical-align: middle;\n",
              "    }\n",
              "\n",
              "    .dataframe tbody tr th {\n",
              "        vertical-align: top;\n",
              "    }\n",
              "\n",
              "    .dataframe thead th {\n",
              "        text-align: right;\n",
              "    }\n",
              "</style>\n",
              "<table border=\"1\" class=\"dataframe\">\n",
              "  <thead>\n",
              "    <tr style=\"text-align: right;\">\n",
              "      <th></th>\n",
              "      <th>one</th>\n",
              "      <th>two</th>\n",
              "      <th>tree</th>\n",
              "      <th>four</th>\n",
              "    </tr>\n",
              "  </thead>\n",
              "  <tbody>\n",
              "    <tr>\n",
              "      <th>b</th>\n",
              "      <td>2.0</td>\n",
              "      <td>2.0</td>\n",
              "      <td>2.0</td>\n",
              "      <td>2</td>\n",
              "    </tr>\n",
              "    <tr>\n",
              "      <th>c</th>\n",
              "      <td>3.0</td>\n",
              "      <td>3.0</td>\n",
              "      <td>3.0</td>\n",
              "      <td>3</td>\n",
              "    </tr>\n",
              "    <tr>\n",
              "      <th>d</th>\n",
              "      <td>NaN</td>\n",
              "      <td>4.0</td>\n",
              "      <td>4.0</td>\n",
              "      <td>4</td>\n",
              "    </tr>\n",
              "  </tbody>\n",
              "</table>\n",
              "</div>"
            ],
            "text/plain": [
              "   one  two  tree  four\n",
              "b  2.0  2.0   2.0     2\n",
              "c  3.0  3.0   3.0     3\n",
              "d  NaN  4.0   4.0     4"
            ]
          },
          "metadata": {
            "tags": []
          },
          "execution_count": 92
        }
      ]
    },
    {
      "cell_type": "code",
      "metadata": {
        "id": "faMZXt4hnZ85",
        "colab": {
          "base_uri": "https://localhost:8080/",
          "height": 136
        },
        "outputId": "c7b8396a-f80c-49de-c608-cf6057db0b66"
      },
      "source": [
        "data_frame.loc['b':'d', 'two':'four']"
      ],
      "execution_count": null,
      "outputs": [
        {
          "output_type": "execute_result",
          "data": {
            "text/html": [
              "<div>\n",
              "<style scoped>\n",
              "    .dataframe tbody tr th:only-of-type {\n",
              "        vertical-align: middle;\n",
              "    }\n",
              "\n",
              "    .dataframe tbody tr th {\n",
              "        vertical-align: top;\n",
              "    }\n",
              "\n",
              "    .dataframe thead th {\n",
              "        text-align: right;\n",
              "    }\n",
              "</style>\n",
              "<table border=\"1\" class=\"dataframe\">\n",
              "  <thead>\n",
              "    <tr style=\"text-align: right;\">\n",
              "      <th></th>\n",
              "      <th>two</th>\n",
              "      <th>tree</th>\n",
              "      <th>four</th>\n",
              "    </tr>\n",
              "  </thead>\n",
              "  <tbody>\n",
              "    <tr>\n",
              "      <th>b</th>\n",
              "      <td>2.0</td>\n",
              "      <td>2.0</td>\n",
              "      <td>2</td>\n",
              "    </tr>\n",
              "    <tr>\n",
              "      <th>c</th>\n",
              "      <td>3.0</td>\n",
              "      <td>3.0</td>\n",
              "      <td>3</td>\n",
              "    </tr>\n",
              "    <tr>\n",
              "      <th>d</th>\n",
              "      <td>4.0</td>\n",
              "      <td>4.0</td>\n",
              "      <td>4</td>\n",
              "    </tr>\n",
              "  </tbody>\n",
              "</table>\n",
              "</div>"
            ],
            "text/plain": [
              "   two  tree  four\n",
              "b  2.0   2.0     2\n",
              "c  3.0   3.0     3\n",
              "d  4.0   4.0     4"
            ]
          },
          "metadata": {
            "tags": []
          },
          "execution_count": 93
        }
      ]
    },
    {
      "cell_type": "code",
      "metadata": {
        "id": "TO1_n5Tjoj7a",
        "colab": {
          "base_uri": "https://localhost:8080/",
          "height": 225
        },
        "outputId": "09adc16a-044a-4125-c47d-ef0f69eb10b1"
      },
      "source": [
        "list_pick = ['two', 'one', 'four', 'five']\n",
        "data_frame.loc[:, data_frame.columns.isin(list_pick)]"
      ],
      "execution_count": null,
      "outputs": [
        {
          "output_type": "execute_result",
          "data": {
            "text/html": [
              "<div>\n",
              "<style scoped>\n",
              "    .dataframe tbody tr th:only-of-type {\n",
              "        vertical-align: middle;\n",
              "    }\n",
              "\n",
              "    .dataframe tbody tr th {\n",
              "        vertical-align: top;\n",
              "    }\n",
              "\n",
              "    .dataframe thead th {\n",
              "        text-align: right;\n",
              "    }\n",
              "</style>\n",
              "<table border=\"1\" class=\"dataframe\">\n",
              "  <thead>\n",
              "    <tr style=\"text-align: right;\">\n",
              "      <th></th>\n",
              "      <th>one</th>\n",
              "      <th>two</th>\n",
              "      <th>four</th>\n",
              "    </tr>\n",
              "  </thead>\n",
              "  <tbody>\n",
              "    <tr>\n",
              "      <th>a</th>\n",
              "      <td>1.0</td>\n",
              "      <td>1.0</td>\n",
              "      <td>1</td>\n",
              "    </tr>\n",
              "    <tr>\n",
              "      <th>b</th>\n",
              "      <td>2.0</td>\n",
              "      <td>2.0</td>\n",
              "      <td>2</td>\n",
              "    </tr>\n",
              "    <tr>\n",
              "      <th>c</th>\n",
              "      <td>3.0</td>\n",
              "      <td>3.0</td>\n",
              "      <td>3</td>\n",
              "    </tr>\n",
              "    <tr>\n",
              "      <th>d</th>\n",
              "      <td>NaN</td>\n",
              "      <td>4.0</td>\n",
              "      <td>4</td>\n",
              "    </tr>\n",
              "    <tr>\n",
              "      <th>e</th>\n",
              "      <td>NaN</td>\n",
              "      <td>NaN</td>\n",
              "      <td>5</td>\n",
              "    </tr>\n",
              "    <tr>\n",
              "      <th>f</th>\n",
              "      <td>NaN</td>\n",
              "      <td>NaN</td>\n",
              "      <td>6</td>\n",
              "    </tr>\n",
              "  </tbody>\n",
              "</table>\n",
              "</div>"
            ],
            "text/plain": [
              "   one  two  four\n",
              "a  1.0  1.0     1\n",
              "b  2.0  2.0     2\n",
              "c  3.0  3.0     3\n",
              "d  NaN  4.0     4\n",
              "e  NaN  NaN     5\n",
              "f  NaN  NaN     6"
            ]
          },
          "metadata": {
            "tags": []
          },
          "execution_count": 94
        }
      ]
    },
    {
      "cell_type": "code",
      "metadata": {
        "id": "x6ZIWa8DoUnu",
        "colab": {
          "base_uri": "https://localhost:8080/",
          "height": 195
        },
        "outputId": "9ebf2714-28bd-4079-f959-607bc1ad33cf"
      },
      "source": [
        "import pandas as pd\n",
        "import numpy as np\n",
        "np.random.seed(5)\n",
        "df = pd.DataFrame(np.random.randint(100, size=(100, 6)), \n",
        "                  columns=list('ABCDEF'), \n",
        "                  index=['R{}'.format(i) for i in range(100)])\n",
        "df.head()"
      ],
      "execution_count": null,
      "outputs": [
        {
          "output_type": "execute_result",
          "data": {
            "text/html": [
              "<div>\n",
              "<style scoped>\n",
              "    .dataframe tbody tr th:only-of-type {\n",
              "        vertical-align: middle;\n",
              "    }\n",
              "\n",
              "    .dataframe tbody tr th {\n",
              "        vertical-align: top;\n",
              "    }\n",
              "\n",
              "    .dataframe thead th {\n",
              "        text-align: right;\n",
              "    }\n",
              "</style>\n",
              "<table border=\"1\" class=\"dataframe\">\n",
              "  <thead>\n",
              "    <tr style=\"text-align: right;\">\n",
              "      <th></th>\n",
              "      <th>A</th>\n",
              "      <th>B</th>\n",
              "      <th>C</th>\n",
              "      <th>D</th>\n",
              "      <th>E</th>\n",
              "      <th>F</th>\n",
              "    </tr>\n",
              "  </thead>\n",
              "  <tbody>\n",
              "    <tr>\n",
              "      <th>R0</th>\n",
              "      <td>99</td>\n",
              "      <td>78</td>\n",
              "      <td>61</td>\n",
              "      <td>16</td>\n",
              "      <td>73</td>\n",
              "      <td>8</td>\n",
              "    </tr>\n",
              "    <tr>\n",
              "      <th>R1</th>\n",
              "      <td>62</td>\n",
              "      <td>27</td>\n",
              "      <td>30</td>\n",
              "      <td>80</td>\n",
              "      <td>7</td>\n",
              "      <td>76</td>\n",
              "    </tr>\n",
              "    <tr>\n",
              "      <th>R2</th>\n",
              "      <td>15</td>\n",
              "      <td>53</td>\n",
              "      <td>80</td>\n",
              "      <td>27</td>\n",
              "      <td>44</td>\n",
              "      <td>77</td>\n",
              "    </tr>\n",
              "    <tr>\n",
              "      <th>R3</th>\n",
              "      <td>75</td>\n",
              "      <td>65</td>\n",
              "      <td>47</td>\n",
              "      <td>30</td>\n",
              "      <td>84</td>\n",
              "      <td>86</td>\n",
              "    </tr>\n",
              "    <tr>\n",
              "      <th>R4</th>\n",
              "      <td>18</td>\n",
              "      <td>9</td>\n",
              "      <td>41</td>\n",
              "      <td>62</td>\n",
              "      <td>1</td>\n",
              "      <td>82</td>\n",
              "    </tr>\n",
              "  </tbody>\n",
              "</table>\n",
              "</div>"
            ],
            "text/plain": [
              "     A   B   C   D   E   F\n",
              "R0  99  78  61  16  73   8\n",
              "R1  62  27  30  80   7  76\n",
              "R2  15  53  80  27  44  77\n",
              "R3  75  65  47  30  84  86\n",
              "R4  18   9  41  62   1  82"
            ]
          },
          "metadata": {
            "tags": []
          },
          "execution_count": 95
        }
      ]
    },
    {
      "cell_type": "code",
      "metadata": {
        "id": "TgAnQEu9oaDC",
        "colab": {
          "base_uri": "https://localhost:8080/",
          "height": 402
        },
        "outputId": "68259bfa-aa07-4d73-d5e9-95f98d183c65"
      },
      "source": [
        "df.loc[:, 'C':'E']"
      ],
      "execution_count": null,
      "outputs": [
        {
          "output_type": "execute_result",
          "data": {
            "text/html": [
              "<div>\n",
              "<style scoped>\n",
              "    .dataframe tbody tr th:only-of-type {\n",
              "        vertical-align: middle;\n",
              "    }\n",
              "\n",
              "    .dataframe tbody tr th {\n",
              "        vertical-align: top;\n",
              "    }\n",
              "\n",
              "    .dataframe thead th {\n",
              "        text-align: right;\n",
              "    }\n",
              "</style>\n",
              "<table border=\"1\" class=\"dataframe\">\n",
              "  <thead>\n",
              "    <tr style=\"text-align: right;\">\n",
              "      <th></th>\n",
              "      <th>C</th>\n",
              "      <th>D</th>\n",
              "      <th>E</th>\n",
              "    </tr>\n",
              "  </thead>\n",
              "  <tbody>\n",
              "    <tr>\n",
              "      <th>R0</th>\n",
              "      <td>61</td>\n",
              "      <td>16</td>\n",
              "      <td>73</td>\n",
              "    </tr>\n",
              "    <tr>\n",
              "      <th>R1</th>\n",
              "      <td>30</td>\n",
              "      <td>80</td>\n",
              "      <td>7</td>\n",
              "    </tr>\n",
              "    <tr>\n",
              "      <th>R2</th>\n",
              "      <td>80</td>\n",
              "      <td>27</td>\n",
              "      <td>44</td>\n",
              "    </tr>\n",
              "    <tr>\n",
              "      <th>R3</th>\n",
              "      <td>47</td>\n",
              "      <td>30</td>\n",
              "      <td>84</td>\n",
              "    </tr>\n",
              "    <tr>\n",
              "      <th>R4</th>\n",
              "      <td>41</td>\n",
              "      <td>62</td>\n",
              "      <td>1</td>\n",
              "    </tr>\n",
              "    <tr>\n",
              "      <th>...</th>\n",
              "      <td>...</td>\n",
              "      <td>...</td>\n",
              "      <td>...</td>\n",
              "    </tr>\n",
              "    <tr>\n",
              "      <th>R95</th>\n",
              "      <td>76</td>\n",
              "      <td>66</td>\n",
              "      <td>56</td>\n",
              "    </tr>\n",
              "    <tr>\n",
              "      <th>R96</th>\n",
              "      <td>86</td>\n",
              "      <td>74</td>\n",
              "      <td>37</td>\n",
              "    </tr>\n",
              "    <tr>\n",
              "      <th>R97</th>\n",
              "      <td>59</td>\n",
              "      <td>25</td>\n",
              "      <td>39</td>\n",
              "    </tr>\n",
              "    <tr>\n",
              "      <th>R98</th>\n",
              "      <td>68</td>\n",
              "      <td>81</td>\n",
              "      <td>69</td>\n",
              "    </tr>\n",
              "    <tr>\n",
              "      <th>R99</th>\n",
              "      <td>86</td>\n",
              "      <td>1</td>\n",
              "      <td>74</td>\n",
              "    </tr>\n",
              "  </tbody>\n",
              "</table>\n",
              "<p>100 rows × 3 columns</p>\n",
              "</div>"
            ],
            "text/plain": [
              "      C   D   E\n",
              "R0   61  16  73\n",
              "R1   30  80   7\n",
              "R2   80  27  44\n",
              "R3   47  30  84\n",
              "R4   41  62   1\n",
              "..   ..  ..  ..\n",
              "R95  76  66  56\n",
              "R96  86  74  37\n",
              "R97  59  25  39\n",
              "R98  68  81  69\n",
              "R99  86   1  74\n",
              "\n",
              "[100 rows x 3 columns]"
            ]
          },
          "metadata": {
            "tags": []
          },
          "execution_count": 96
        }
      ]
    },
    {
      "cell_type": "code",
      "metadata": {
        "id": "Kpp4QPJIob9Y",
        "colab": {
          "base_uri": "https://localhost:8080/",
          "height": 195
        },
        "outputId": "14b119a3-21da-43c1-a29d-d052a7b6028f"
      },
      "source": [
        "df.loc['R6':'R10', 'C':'E']"
      ],
      "execution_count": null,
      "outputs": [
        {
          "output_type": "execute_result",
          "data": {
            "text/html": [
              "<div>\n",
              "<style scoped>\n",
              "    .dataframe tbody tr th:only-of-type {\n",
              "        vertical-align: middle;\n",
              "    }\n",
              "\n",
              "    .dataframe tbody tr th {\n",
              "        vertical-align: top;\n",
              "    }\n",
              "\n",
              "    .dataframe thead th {\n",
              "        text-align: right;\n",
              "    }\n",
              "</style>\n",
              "<table border=\"1\" class=\"dataframe\">\n",
              "  <thead>\n",
              "    <tr style=\"text-align: right;\">\n",
              "      <th></th>\n",
              "      <th>C</th>\n",
              "      <th>D</th>\n",
              "      <th>E</th>\n",
              "    </tr>\n",
              "  </thead>\n",
              "  <tbody>\n",
              "    <tr>\n",
              "      <th>R6</th>\n",
              "      <td>51</td>\n",
              "      <td>27</td>\n",
              "      <td>31</td>\n",
              "    </tr>\n",
              "    <tr>\n",
              "      <th>R7</th>\n",
              "      <td>83</td>\n",
              "      <td>19</td>\n",
              "      <td>18</td>\n",
              "    </tr>\n",
              "    <tr>\n",
              "      <th>R8</th>\n",
              "      <td>11</td>\n",
              "      <td>67</td>\n",
              "      <td>65</td>\n",
              "    </tr>\n",
              "    <tr>\n",
              "      <th>R9</th>\n",
              "      <td>78</td>\n",
              "      <td>27</td>\n",
              "      <td>29</td>\n",
              "    </tr>\n",
              "    <tr>\n",
              "      <th>R10</th>\n",
              "      <td>7</td>\n",
              "      <td>16</td>\n",
              "      <td>94</td>\n",
              "    </tr>\n",
              "  </tbody>\n",
              "</table>\n",
              "</div>"
            ],
            "text/plain": [
              "      C   D   E\n",
              "R6   51  27  31\n",
              "R7   83  19  18\n",
              "R8   11  67  65\n",
              "R9   78  27  29\n",
              "R10   7  16  94"
            ]
          },
          "metadata": {
            "tags": []
          },
          "execution_count": 97
        }
      ]
    },
    {
      "cell_type": "code",
      "metadata": {
        "id": "q9LPli1logAW",
        "colab": {
          "base_uri": "https://localhost:8080/",
          "height": 402
        },
        "outputId": "023a3d49-727a-4e95-cd66-b664d3ee2e96"
      },
      "source": [
        "df.loc[:, df.columns.isin(list('BCD'))]"
      ],
      "execution_count": null,
      "outputs": [
        {
          "output_type": "execute_result",
          "data": {
            "text/html": [
              "<div>\n",
              "<style scoped>\n",
              "    .dataframe tbody tr th:only-of-type {\n",
              "        vertical-align: middle;\n",
              "    }\n",
              "\n",
              "    .dataframe tbody tr th {\n",
              "        vertical-align: top;\n",
              "    }\n",
              "\n",
              "    .dataframe thead th {\n",
              "        text-align: right;\n",
              "    }\n",
              "</style>\n",
              "<table border=\"1\" class=\"dataframe\">\n",
              "  <thead>\n",
              "    <tr style=\"text-align: right;\">\n",
              "      <th></th>\n",
              "      <th>B</th>\n",
              "      <th>C</th>\n",
              "      <th>D</th>\n",
              "    </tr>\n",
              "  </thead>\n",
              "  <tbody>\n",
              "    <tr>\n",
              "      <th>R0</th>\n",
              "      <td>78</td>\n",
              "      <td>61</td>\n",
              "      <td>16</td>\n",
              "    </tr>\n",
              "    <tr>\n",
              "      <th>R1</th>\n",
              "      <td>27</td>\n",
              "      <td>30</td>\n",
              "      <td>80</td>\n",
              "    </tr>\n",
              "    <tr>\n",
              "      <th>R2</th>\n",
              "      <td>53</td>\n",
              "      <td>80</td>\n",
              "      <td>27</td>\n",
              "    </tr>\n",
              "    <tr>\n",
              "      <th>R3</th>\n",
              "      <td>65</td>\n",
              "      <td>47</td>\n",
              "      <td>30</td>\n",
              "    </tr>\n",
              "    <tr>\n",
              "      <th>R4</th>\n",
              "      <td>9</td>\n",
              "      <td>41</td>\n",
              "      <td>62</td>\n",
              "    </tr>\n",
              "    <tr>\n",
              "      <th>...</th>\n",
              "      <td>...</td>\n",
              "      <td>...</td>\n",
              "      <td>...</td>\n",
              "    </tr>\n",
              "    <tr>\n",
              "      <th>R95</th>\n",
              "      <td>7</td>\n",
              "      <td>76</td>\n",
              "      <td>66</td>\n",
              "    </tr>\n",
              "    <tr>\n",
              "      <th>R96</th>\n",
              "      <td>31</td>\n",
              "      <td>86</td>\n",
              "      <td>74</td>\n",
              "    </tr>\n",
              "    <tr>\n",
              "      <th>R97</th>\n",
              "      <td>12</td>\n",
              "      <td>59</td>\n",
              "      <td>25</td>\n",
              "    </tr>\n",
              "    <tr>\n",
              "      <th>R98</th>\n",
              "      <td>7</td>\n",
              "      <td>68</td>\n",
              "      <td>81</td>\n",
              "    </tr>\n",
              "    <tr>\n",
              "      <th>R99</th>\n",
              "      <td>20</td>\n",
              "      <td>86</td>\n",
              "      <td>1</td>\n",
              "    </tr>\n",
              "  </tbody>\n",
              "</table>\n",
              "<p>100 rows × 3 columns</p>\n",
              "</div>"
            ],
            "text/plain": [
              "      B   C   D\n",
              "R0   78  61  16\n",
              "R1   27  30  80\n",
              "R2   53  80  27\n",
              "R3   65  47  30\n",
              "R4    9  41  62\n",
              "..   ..  ..  ..\n",
              "R95   7  76  66\n",
              "R96  31  86  74\n",
              "R97  12  59  25\n",
              "R98   7  68  81\n",
              "R99  20  86   1\n",
              "\n",
              "[100 rows x 3 columns]"
            ]
          },
          "metadata": {
            "tags": []
          },
          "execution_count": 98
        }
      ]
    },
    {
      "cell_type": "code",
      "metadata": {
        "id": "ML77jbXmk9EN",
        "colab": {
          "base_uri": "https://localhost:8080/",
          "height": 284
        },
        "outputId": "e9f2f5e9-7dd0-4a4c-d3f8-5b3a6e748678"
      },
      "source": [
        "import pandas as pd\n",
        "import numpy as np\n",
        "df = pd.DataFrame({'A': 'foo bar foo bar foo bar foo foo'.split(),\n",
        "                   'B': 'one one two three two two one three'.split(),\n",
        "                   'C': np.arange(8), 'D': np.arange(8) * 2})\n",
        "df"
      ],
      "execution_count": null,
      "outputs": [
        {
          "output_type": "execute_result",
          "data": {
            "text/html": [
              "<div>\n",
              "<style scoped>\n",
              "    .dataframe tbody tr th:only-of-type {\n",
              "        vertical-align: middle;\n",
              "    }\n",
              "\n",
              "    .dataframe tbody tr th {\n",
              "        vertical-align: top;\n",
              "    }\n",
              "\n",
              "    .dataframe thead th {\n",
              "        text-align: right;\n",
              "    }\n",
              "</style>\n",
              "<table border=\"1\" class=\"dataframe\">\n",
              "  <thead>\n",
              "    <tr style=\"text-align: right;\">\n",
              "      <th></th>\n",
              "      <th>A</th>\n",
              "      <th>B</th>\n",
              "      <th>C</th>\n",
              "      <th>D</th>\n",
              "    </tr>\n",
              "  </thead>\n",
              "  <tbody>\n",
              "    <tr>\n",
              "      <th>0</th>\n",
              "      <td>foo</td>\n",
              "      <td>one</td>\n",
              "      <td>0</td>\n",
              "      <td>0</td>\n",
              "    </tr>\n",
              "    <tr>\n",
              "      <th>1</th>\n",
              "      <td>bar</td>\n",
              "      <td>one</td>\n",
              "      <td>1</td>\n",
              "      <td>2</td>\n",
              "    </tr>\n",
              "    <tr>\n",
              "      <th>2</th>\n",
              "      <td>foo</td>\n",
              "      <td>two</td>\n",
              "      <td>2</td>\n",
              "      <td>4</td>\n",
              "    </tr>\n",
              "    <tr>\n",
              "      <th>3</th>\n",
              "      <td>bar</td>\n",
              "      <td>three</td>\n",
              "      <td>3</td>\n",
              "      <td>6</td>\n",
              "    </tr>\n",
              "    <tr>\n",
              "      <th>4</th>\n",
              "      <td>foo</td>\n",
              "      <td>two</td>\n",
              "      <td>4</td>\n",
              "      <td>8</td>\n",
              "    </tr>\n",
              "    <tr>\n",
              "      <th>5</th>\n",
              "      <td>bar</td>\n",
              "      <td>two</td>\n",
              "      <td>5</td>\n",
              "      <td>10</td>\n",
              "    </tr>\n",
              "    <tr>\n",
              "      <th>6</th>\n",
              "      <td>foo</td>\n",
              "      <td>one</td>\n",
              "      <td>6</td>\n",
              "      <td>12</td>\n",
              "    </tr>\n",
              "    <tr>\n",
              "      <th>7</th>\n",
              "      <td>foo</td>\n",
              "      <td>three</td>\n",
              "      <td>7</td>\n",
              "      <td>14</td>\n",
              "    </tr>\n",
              "  </tbody>\n",
              "</table>\n",
              "</div>"
            ],
            "text/plain": [
              "     A      B  C   D\n",
              "0  foo    one  0   0\n",
              "1  bar    one  1   2\n",
              "2  foo    two  2   4\n",
              "3  bar  three  3   6\n",
              "4  foo    two  4   8\n",
              "5  bar    two  5  10\n",
              "6  foo    one  6  12\n",
              "7  foo  three  7  14"
            ]
          },
          "metadata": {
            "tags": []
          },
          "execution_count": 99
        }
      ]
    },
    {
      "cell_type": "code",
      "metadata": {
        "id": "TUxZykeYlDql",
        "colab": {
          "base_uri": "https://localhost:8080/",
          "height": 195
        },
        "outputId": "4bf6a614-c4f3-4942-9b6d-92aec5fac399"
      },
      "source": [
        "df.loc[df['A'] == 'foo']"
      ],
      "execution_count": null,
      "outputs": [
        {
          "output_type": "execute_result",
          "data": {
            "text/html": [
              "<div>\n",
              "<style scoped>\n",
              "    .dataframe tbody tr th:only-of-type {\n",
              "        vertical-align: middle;\n",
              "    }\n",
              "\n",
              "    .dataframe tbody tr th {\n",
              "        vertical-align: top;\n",
              "    }\n",
              "\n",
              "    .dataframe thead th {\n",
              "        text-align: right;\n",
              "    }\n",
              "</style>\n",
              "<table border=\"1\" class=\"dataframe\">\n",
              "  <thead>\n",
              "    <tr style=\"text-align: right;\">\n",
              "      <th></th>\n",
              "      <th>A</th>\n",
              "      <th>B</th>\n",
              "      <th>C</th>\n",
              "      <th>D</th>\n",
              "    </tr>\n",
              "  </thead>\n",
              "  <tbody>\n",
              "    <tr>\n",
              "      <th>0</th>\n",
              "      <td>foo</td>\n",
              "      <td>one</td>\n",
              "      <td>0</td>\n",
              "      <td>0</td>\n",
              "    </tr>\n",
              "    <tr>\n",
              "      <th>2</th>\n",
              "      <td>foo</td>\n",
              "      <td>two</td>\n",
              "      <td>2</td>\n",
              "      <td>4</td>\n",
              "    </tr>\n",
              "    <tr>\n",
              "      <th>4</th>\n",
              "      <td>foo</td>\n",
              "      <td>two</td>\n",
              "      <td>4</td>\n",
              "      <td>8</td>\n",
              "    </tr>\n",
              "    <tr>\n",
              "      <th>6</th>\n",
              "      <td>foo</td>\n",
              "      <td>one</td>\n",
              "      <td>6</td>\n",
              "      <td>12</td>\n",
              "    </tr>\n",
              "    <tr>\n",
              "      <th>7</th>\n",
              "      <td>foo</td>\n",
              "      <td>three</td>\n",
              "      <td>7</td>\n",
              "      <td>14</td>\n",
              "    </tr>\n",
              "  </tbody>\n",
              "</table>\n",
              "</div>"
            ],
            "text/plain": [
              "     A      B  C   D\n",
              "0  foo    one  0   0\n",
              "2  foo    two  2   4\n",
              "4  foo    two  4   8\n",
              "6  foo    one  6  12\n",
              "7  foo  three  7  14"
            ]
          },
          "metadata": {
            "tags": []
          },
          "execution_count": 100
        }
      ]
    },
    {
      "cell_type": "code",
      "metadata": {
        "id": "jXZxelJZlIZo",
        "colab": {
          "base_uri": "https://localhost:8080/",
          "height": 195
        },
        "outputId": "9e27e392-63d6-427d-8a6f-e427cf5fe314"
      },
      "source": [
        "df.loc[df['B'].isin(['one','three'])]"
      ],
      "execution_count": null,
      "outputs": [
        {
          "output_type": "execute_result",
          "data": {
            "text/html": [
              "<div>\n",
              "<style scoped>\n",
              "    .dataframe tbody tr th:only-of-type {\n",
              "        vertical-align: middle;\n",
              "    }\n",
              "\n",
              "    .dataframe tbody tr th {\n",
              "        vertical-align: top;\n",
              "    }\n",
              "\n",
              "    .dataframe thead th {\n",
              "        text-align: right;\n",
              "    }\n",
              "</style>\n",
              "<table border=\"1\" class=\"dataframe\">\n",
              "  <thead>\n",
              "    <tr style=\"text-align: right;\">\n",
              "      <th></th>\n",
              "      <th>A</th>\n",
              "      <th>B</th>\n",
              "      <th>C</th>\n",
              "      <th>D</th>\n",
              "    </tr>\n",
              "  </thead>\n",
              "  <tbody>\n",
              "    <tr>\n",
              "      <th>0</th>\n",
              "      <td>foo</td>\n",
              "      <td>one</td>\n",
              "      <td>0</td>\n",
              "      <td>0</td>\n",
              "    </tr>\n",
              "    <tr>\n",
              "      <th>1</th>\n",
              "      <td>bar</td>\n",
              "      <td>one</td>\n",
              "      <td>1</td>\n",
              "      <td>2</td>\n",
              "    </tr>\n",
              "    <tr>\n",
              "      <th>3</th>\n",
              "      <td>bar</td>\n",
              "      <td>three</td>\n",
              "      <td>3</td>\n",
              "      <td>6</td>\n",
              "    </tr>\n",
              "    <tr>\n",
              "      <th>6</th>\n",
              "      <td>foo</td>\n",
              "      <td>one</td>\n",
              "      <td>6</td>\n",
              "      <td>12</td>\n",
              "    </tr>\n",
              "    <tr>\n",
              "      <th>7</th>\n",
              "      <td>foo</td>\n",
              "      <td>three</td>\n",
              "      <td>7</td>\n",
              "      <td>14</td>\n",
              "    </tr>\n",
              "  </tbody>\n",
              "</table>\n",
              "</div>"
            ],
            "text/plain": [
              "     A      B  C   D\n",
              "0  foo    one  0   0\n",
              "1  bar    one  1   2\n",
              "3  bar  three  3   6\n",
              "6  foo    one  6  12\n",
              "7  foo  three  7  14"
            ]
          },
          "metadata": {
            "tags": []
          },
          "execution_count": 101
        }
      ]
    },
    {
      "cell_type": "markdown",
      "metadata": {
        "id": "8q1_9AwR4HAD"
      },
      "source": [
        "### df.iloc[ : , : ] and df.iloc[ [index/filtering] , [col] ] (integer)\n",
        "\n",
        "***numeric*** indexing and slicing\n",
        "\n",
        "*slicing*\n",
        "\n",
        "> df.iloc[idx_row_start:idx_row_end, col_start:col_end]\n",
        "\n",
        "indexing\n",
        "\n",
        "> df.iloc[[row1,row2,row3,row n], [col1, col2, col3, col n]]"
      ]
    },
    {
      "cell_type": "code",
      "metadata": {
        "id": "ekvFI4chTxK8",
        "colab": {
          "base_uri": "https://localhost:8080/",
          "height": 166
        },
        "outputId": "6091fcc7-104d-4f49-f262-c62fa81f8ff8"
      },
      "source": [
        "import pandas as pd\n",
        "\n",
        "df = pd.DataFrame({'Calon President': ['Imam', 'Abrar', 'Muthia', 'Itha'],\n",
        "                   'Umur' : [12,34,5,67],\n",
        "                   'Alamat' : ['Jln.1', 'Jln.2', 'Jln.3', 'Jln.4'],\n",
        "                   'Jumlah Voting': [100, 50, 60, 20],\n",
        "                   'Jenis Kelamin':['L', 'L', 'P', 'P'],\n",
        "                   'Negara':['Indonesia', 'Australia', 'Amerika', 'Mesir']})\n",
        "df"
      ],
      "execution_count": null,
      "outputs": [
        {
          "output_type": "execute_result",
          "data": {
            "text/html": [
              "<div>\n",
              "<style scoped>\n",
              "    .dataframe tbody tr th:only-of-type {\n",
              "        vertical-align: middle;\n",
              "    }\n",
              "\n",
              "    .dataframe tbody tr th {\n",
              "        vertical-align: top;\n",
              "    }\n",
              "\n",
              "    .dataframe thead th {\n",
              "        text-align: right;\n",
              "    }\n",
              "</style>\n",
              "<table border=\"1\" class=\"dataframe\">\n",
              "  <thead>\n",
              "    <tr style=\"text-align: right;\">\n",
              "      <th></th>\n",
              "      <th>Calon President</th>\n",
              "      <th>Umur</th>\n",
              "      <th>Alamat</th>\n",
              "      <th>Jumlah Voting</th>\n",
              "      <th>Jenis Kelamin</th>\n",
              "      <th>Negara</th>\n",
              "    </tr>\n",
              "  </thead>\n",
              "  <tbody>\n",
              "    <tr>\n",
              "      <th>0</th>\n",
              "      <td>Imam</td>\n",
              "      <td>12</td>\n",
              "      <td>Jln.1</td>\n",
              "      <td>100</td>\n",
              "      <td>L</td>\n",
              "      <td>Indonesia</td>\n",
              "    </tr>\n",
              "    <tr>\n",
              "      <th>1</th>\n",
              "      <td>Abrar</td>\n",
              "      <td>34</td>\n",
              "      <td>Jln.2</td>\n",
              "      <td>50</td>\n",
              "      <td>L</td>\n",
              "      <td>Australia</td>\n",
              "    </tr>\n",
              "    <tr>\n",
              "      <th>2</th>\n",
              "      <td>Muthia</td>\n",
              "      <td>5</td>\n",
              "      <td>Jln.3</td>\n",
              "      <td>60</td>\n",
              "      <td>P</td>\n",
              "      <td>Amerika</td>\n",
              "    </tr>\n",
              "    <tr>\n",
              "      <th>3</th>\n",
              "      <td>Itha</td>\n",
              "      <td>67</td>\n",
              "      <td>Jln.4</td>\n",
              "      <td>20</td>\n",
              "      <td>P</td>\n",
              "      <td>Mesir</td>\n",
              "    </tr>\n",
              "  </tbody>\n",
              "</table>\n",
              "</div>"
            ],
            "text/plain": [
              "  Calon President  Umur Alamat  Jumlah Voting Jenis Kelamin     Negara\n",
              "0            Imam    12  Jln.1            100             L  Indonesia\n",
              "1           Abrar    34  Jln.2             50             L  Australia\n",
              "2          Muthia     5  Jln.3             60             P    Amerika\n",
              "3            Itha    67  Jln.4             20             P      Mesir"
            ]
          },
          "metadata": {
            "tags": []
          },
          "execution_count": 102
        }
      ]
    },
    {
      "cell_type": "code",
      "metadata": {
        "id": "aAIM0kc2fVZm",
        "colab": {
          "base_uri": "https://localhost:8080/",
          "height": 77
        },
        "outputId": "5632c173-1d19-4e0b-9503-f24e58e6cdca"
      },
      "source": [
        "df.iloc[[3]]"
      ],
      "execution_count": null,
      "outputs": [
        {
          "output_type": "execute_result",
          "data": {
            "text/html": [
              "<div>\n",
              "<style scoped>\n",
              "    .dataframe tbody tr th:only-of-type {\n",
              "        vertical-align: middle;\n",
              "    }\n",
              "\n",
              "    .dataframe tbody tr th {\n",
              "        vertical-align: top;\n",
              "    }\n",
              "\n",
              "    .dataframe thead th {\n",
              "        text-align: right;\n",
              "    }\n",
              "</style>\n",
              "<table border=\"1\" class=\"dataframe\">\n",
              "  <thead>\n",
              "    <tr style=\"text-align: right;\">\n",
              "      <th></th>\n",
              "      <th>Calon President</th>\n",
              "      <th>Umur</th>\n",
              "      <th>Alamat</th>\n",
              "      <th>Jumlah Voting</th>\n",
              "      <th>Jenis Kelamin</th>\n",
              "      <th>Negara</th>\n",
              "    </tr>\n",
              "  </thead>\n",
              "  <tbody>\n",
              "    <tr>\n",
              "      <th>3</th>\n",
              "      <td>Itha</td>\n",
              "      <td>67</td>\n",
              "      <td>Jln.4</td>\n",
              "      <td>20</td>\n",
              "      <td>P</td>\n",
              "      <td>Mesir</td>\n",
              "    </tr>\n",
              "  </tbody>\n",
              "</table>\n",
              "</div>"
            ],
            "text/plain": [
              "  Calon President  Umur Alamat  Jumlah Voting Jenis Kelamin Negara\n",
              "3            Itha    67  Jln.4             20             P  Mesir"
            ]
          },
          "metadata": {
            "tags": []
          },
          "execution_count": 103
        }
      ]
    },
    {
      "cell_type": "code",
      "metadata": {
        "id": "eqG_7jbUfewS",
        "colab": {
          "base_uri": "https://localhost:8080/",
          "height": 106
        },
        "outputId": "a704e408-d823-47af-d8b7-05c663a65bc2"
      },
      "source": [
        "df.iloc[2:4]"
      ],
      "execution_count": null,
      "outputs": [
        {
          "output_type": "execute_result",
          "data": {
            "text/html": [
              "<div>\n",
              "<style scoped>\n",
              "    .dataframe tbody tr th:only-of-type {\n",
              "        vertical-align: middle;\n",
              "    }\n",
              "\n",
              "    .dataframe tbody tr th {\n",
              "        vertical-align: top;\n",
              "    }\n",
              "\n",
              "    .dataframe thead th {\n",
              "        text-align: right;\n",
              "    }\n",
              "</style>\n",
              "<table border=\"1\" class=\"dataframe\">\n",
              "  <thead>\n",
              "    <tr style=\"text-align: right;\">\n",
              "      <th></th>\n",
              "      <th>Calon President</th>\n",
              "      <th>Umur</th>\n",
              "      <th>Alamat</th>\n",
              "      <th>Jumlah Voting</th>\n",
              "      <th>Jenis Kelamin</th>\n",
              "      <th>Negara</th>\n",
              "    </tr>\n",
              "  </thead>\n",
              "  <tbody>\n",
              "    <tr>\n",
              "      <th>2</th>\n",
              "      <td>Muthia</td>\n",
              "      <td>5</td>\n",
              "      <td>Jln.3</td>\n",
              "      <td>60</td>\n",
              "      <td>P</td>\n",
              "      <td>Amerika</td>\n",
              "    </tr>\n",
              "    <tr>\n",
              "      <th>3</th>\n",
              "      <td>Itha</td>\n",
              "      <td>67</td>\n",
              "      <td>Jln.4</td>\n",
              "      <td>20</td>\n",
              "      <td>P</td>\n",
              "      <td>Mesir</td>\n",
              "    </tr>\n",
              "  </tbody>\n",
              "</table>\n",
              "</div>"
            ],
            "text/plain": [
              "  Calon President  Umur Alamat  Jumlah Voting Jenis Kelamin   Negara\n",
              "2          Muthia     5  Jln.3             60             P  Amerika\n",
              "3            Itha    67  Jln.4             20             P    Mesir"
            ]
          },
          "metadata": {
            "tags": []
          },
          "execution_count": 104
        }
      ]
    },
    {
      "cell_type": "code",
      "metadata": {
        "id": "FvTOs1h4fl8d",
        "colab": {
          "base_uri": "https://localhost:8080/",
          "height": 166
        },
        "outputId": "94729254-6cf5-4299-a181-5d9dcc5e951d"
      },
      "source": [
        "df.iloc[:, [1]]"
      ],
      "execution_count": null,
      "outputs": [
        {
          "output_type": "execute_result",
          "data": {
            "text/html": [
              "<div>\n",
              "<style scoped>\n",
              "    .dataframe tbody tr th:only-of-type {\n",
              "        vertical-align: middle;\n",
              "    }\n",
              "\n",
              "    .dataframe tbody tr th {\n",
              "        vertical-align: top;\n",
              "    }\n",
              "\n",
              "    .dataframe thead th {\n",
              "        text-align: right;\n",
              "    }\n",
              "</style>\n",
              "<table border=\"1\" class=\"dataframe\">\n",
              "  <thead>\n",
              "    <tr style=\"text-align: right;\">\n",
              "      <th></th>\n",
              "      <th>Umur</th>\n",
              "    </tr>\n",
              "  </thead>\n",
              "  <tbody>\n",
              "    <tr>\n",
              "      <th>0</th>\n",
              "      <td>12</td>\n",
              "    </tr>\n",
              "    <tr>\n",
              "      <th>1</th>\n",
              "      <td>34</td>\n",
              "    </tr>\n",
              "    <tr>\n",
              "      <th>2</th>\n",
              "      <td>5</td>\n",
              "    </tr>\n",
              "    <tr>\n",
              "      <th>3</th>\n",
              "      <td>67</td>\n",
              "    </tr>\n",
              "  </tbody>\n",
              "</table>\n",
              "</div>"
            ],
            "text/plain": [
              "   Umur\n",
              "0    12\n",
              "1    34\n",
              "2     5\n",
              "3    67"
            ]
          },
          "metadata": {
            "tags": []
          },
          "execution_count": 105
        }
      ]
    },
    {
      "cell_type": "code",
      "metadata": {
        "id": "0w-g68nQ1837",
        "colab": {
          "base_uri": "https://localhost:8080/",
          "height": 106
        },
        "outputId": "0e882981-6ce0-4e6a-bd82-5efd0ddc3448"
      },
      "source": [
        "df.iloc[0:2, :]"
      ],
      "execution_count": null,
      "outputs": [
        {
          "output_type": "execute_result",
          "data": {
            "text/html": [
              "<div>\n",
              "<style scoped>\n",
              "    .dataframe tbody tr th:only-of-type {\n",
              "        vertical-align: middle;\n",
              "    }\n",
              "\n",
              "    .dataframe tbody tr th {\n",
              "        vertical-align: top;\n",
              "    }\n",
              "\n",
              "    .dataframe thead th {\n",
              "        text-align: right;\n",
              "    }\n",
              "</style>\n",
              "<table border=\"1\" class=\"dataframe\">\n",
              "  <thead>\n",
              "    <tr style=\"text-align: right;\">\n",
              "      <th></th>\n",
              "      <th>Calon President</th>\n",
              "      <th>Umur</th>\n",
              "      <th>Alamat</th>\n",
              "      <th>Jumlah Voting</th>\n",
              "      <th>Jenis Kelamin</th>\n",
              "      <th>Negara</th>\n",
              "    </tr>\n",
              "  </thead>\n",
              "  <tbody>\n",
              "    <tr>\n",
              "      <th>0</th>\n",
              "      <td>Imam</td>\n",
              "      <td>12</td>\n",
              "      <td>Jln.1</td>\n",
              "      <td>100</td>\n",
              "      <td>L</td>\n",
              "      <td>Indonesia</td>\n",
              "    </tr>\n",
              "    <tr>\n",
              "      <th>1</th>\n",
              "      <td>Abrar</td>\n",
              "      <td>34</td>\n",
              "      <td>Jln.2</td>\n",
              "      <td>50</td>\n",
              "      <td>L</td>\n",
              "      <td>Australia</td>\n",
              "    </tr>\n",
              "  </tbody>\n",
              "</table>\n",
              "</div>"
            ],
            "text/plain": [
              "  Calon President  Umur Alamat  Jumlah Voting Jenis Kelamin     Negara\n",
              "0            Imam    12  Jln.1            100             L  Indonesia\n",
              "1           Abrar    34  Jln.2             50             L  Australia"
            ]
          },
          "metadata": {
            "tags": []
          },
          "execution_count": 106
        }
      ]
    },
    {
      "cell_type": "code",
      "metadata": {
        "id": "XHpeoxsM2V-_",
        "colab": {
          "base_uri": "https://localhost:8080/",
          "height": 106
        },
        "outputId": "c6e8b08c-7635-4bbe-f52d-92ec1a2b6048"
      },
      "source": [
        "df.iloc[0:2,0:2]"
      ],
      "execution_count": null,
      "outputs": [
        {
          "output_type": "execute_result",
          "data": {
            "text/html": [
              "<div>\n",
              "<style scoped>\n",
              "    .dataframe tbody tr th:only-of-type {\n",
              "        vertical-align: middle;\n",
              "    }\n",
              "\n",
              "    .dataframe tbody tr th {\n",
              "        vertical-align: top;\n",
              "    }\n",
              "\n",
              "    .dataframe thead th {\n",
              "        text-align: right;\n",
              "    }\n",
              "</style>\n",
              "<table border=\"1\" class=\"dataframe\">\n",
              "  <thead>\n",
              "    <tr style=\"text-align: right;\">\n",
              "      <th></th>\n",
              "      <th>Calon President</th>\n",
              "      <th>Umur</th>\n",
              "    </tr>\n",
              "  </thead>\n",
              "  <tbody>\n",
              "    <tr>\n",
              "      <th>0</th>\n",
              "      <td>Imam</td>\n",
              "      <td>12</td>\n",
              "    </tr>\n",
              "    <tr>\n",
              "      <th>1</th>\n",
              "      <td>Abrar</td>\n",
              "      <td>34</td>\n",
              "    </tr>\n",
              "  </tbody>\n",
              "</table>\n",
              "</div>"
            ],
            "text/plain": [
              "  Calon President  Umur\n",
              "0            Imam    12\n",
              "1           Abrar    34"
            ]
          },
          "metadata": {
            "tags": []
          },
          "execution_count": 107
        }
      ]
    },
    {
      "cell_type": "code",
      "metadata": {
        "id": "4BHVL0xkN5-T",
        "colab": {
          "base_uri": "https://localhost:8080/",
          "height": 77
        },
        "outputId": "b645f6f6-50d6-4c97-9a92-bbd9d269097c"
      },
      "source": [
        "df.iloc[[3],:]"
      ],
      "execution_count": null,
      "outputs": [
        {
          "output_type": "execute_result",
          "data": {
            "text/html": [
              "<div>\n",
              "<style scoped>\n",
              "    .dataframe tbody tr th:only-of-type {\n",
              "        vertical-align: middle;\n",
              "    }\n",
              "\n",
              "    .dataframe tbody tr th {\n",
              "        vertical-align: top;\n",
              "    }\n",
              "\n",
              "    .dataframe thead th {\n",
              "        text-align: right;\n",
              "    }\n",
              "</style>\n",
              "<table border=\"1\" class=\"dataframe\">\n",
              "  <thead>\n",
              "    <tr style=\"text-align: right;\">\n",
              "      <th></th>\n",
              "      <th>Calon President</th>\n",
              "      <th>Umur</th>\n",
              "      <th>Alamat</th>\n",
              "      <th>Jumlah Voting</th>\n",
              "      <th>Jenis Kelamin</th>\n",
              "      <th>Negara</th>\n",
              "    </tr>\n",
              "  </thead>\n",
              "  <tbody>\n",
              "    <tr>\n",
              "      <th>3</th>\n",
              "      <td>Itha</td>\n",
              "      <td>67</td>\n",
              "      <td>Jln.4</td>\n",
              "      <td>20</td>\n",
              "      <td>P</td>\n",
              "      <td>Mesir</td>\n",
              "    </tr>\n",
              "  </tbody>\n",
              "</table>\n",
              "</div>"
            ],
            "text/plain": [
              "  Calon President  Umur Alamat  Jumlah Voting Jenis Kelamin Negara\n",
              "3            Itha    67  Jln.4             20             P  Mesir"
            ]
          },
          "metadata": {
            "tags": []
          },
          "execution_count": 108
        }
      ]
    },
    {
      "cell_type": "code",
      "metadata": {
        "id": "VUmorO4y2cbC",
        "colab": {
          "base_uri": "https://localhost:8080/",
          "height": 136
        },
        "outputId": "ea8b5064-c9df-4fbb-f3d3-c80061bdb2e4"
      },
      "source": [
        "# df.iloc[0:2,['Umur', 'Alamat']] .iloc requires numeric indexers, got ['Umur' 'Alamat']\n",
        "df.iloc[[0,2,3], [1,2]]"
      ],
      "execution_count": null,
      "outputs": [
        {
          "output_type": "execute_result",
          "data": {
            "text/html": [
              "<div>\n",
              "<style scoped>\n",
              "    .dataframe tbody tr th:only-of-type {\n",
              "        vertical-align: middle;\n",
              "    }\n",
              "\n",
              "    .dataframe tbody tr th {\n",
              "        vertical-align: top;\n",
              "    }\n",
              "\n",
              "    .dataframe thead th {\n",
              "        text-align: right;\n",
              "    }\n",
              "</style>\n",
              "<table border=\"1\" class=\"dataframe\">\n",
              "  <thead>\n",
              "    <tr style=\"text-align: right;\">\n",
              "      <th></th>\n",
              "      <th>Umur</th>\n",
              "      <th>Alamat</th>\n",
              "    </tr>\n",
              "  </thead>\n",
              "  <tbody>\n",
              "    <tr>\n",
              "      <th>0</th>\n",
              "      <td>12</td>\n",
              "      <td>Jln.1</td>\n",
              "    </tr>\n",
              "    <tr>\n",
              "      <th>2</th>\n",
              "      <td>5</td>\n",
              "      <td>Jln.3</td>\n",
              "    </tr>\n",
              "    <tr>\n",
              "      <th>3</th>\n",
              "      <td>67</td>\n",
              "      <td>Jln.4</td>\n",
              "    </tr>\n",
              "  </tbody>\n",
              "</table>\n",
              "</div>"
            ],
            "text/plain": [
              "   Umur Alamat\n",
              "0    12  Jln.1\n",
              "2     5  Jln.3\n",
              "3    67  Jln.4"
            ]
          },
          "metadata": {
            "tags": []
          },
          "execution_count": 109
        }
      ]
    },
    {
      "cell_type": "code",
      "metadata": {
        "id": "kFfgj2UZax5N",
        "colab": {
          "base_uri": "https://localhost:8080/"
        },
        "outputId": "625d98af-05f7-402f-f6d5-c4a702316c65"
      },
      "source": [
        "import pandas as pd\n",
        "\n",
        "d = {'one' : pd.Series([1, 2, 3], index=['a', 'b', 'c']),\n",
        "   'two' : pd.Series([1, 2, 3, 4], index=['a', 'b', 'c', 'd'])}\n",
        "\n",
        "df = pd.DataFrame(d)\n",
        "print(df.iloc[2])"
      ],
      "execution_count": null,
      "outputs": [
        {
          "output_type": "stream",
          "text": [
            "one    3.0\n",
            "two    3.0\n",
            "Name: c, dtype: float64\n"
          ],
          "name": "stdout"
        }
      ]
    },
    {
      "cell_type": "markdown",
      "metadata": {
        "id": "EBkYPy70W-_L"
      },
      "source": [
        "## Task\n",
        "\n",
        "cobalah suatu metode dari pandas untuk mengetahui beberapa data pertama dan beberapa data terakhir. kemudian sebutkan nilai dari:\n",
        "- baris pertama dari column price\n",
        "- baris terakhir dari column color"
      ]
    },
    {
      "cell_type": "code",
      "metadata": {
        "id": "uhgsynyLrv6r"
      },
      "source": [
        "# from google.colab import drive\n",
        "# drive.mount('/content/drive/')"
      ],
      "execution_count": null,
      "outputs": []
    },
    {
      "cell_type": "code",
      "metadata": {
        "id": "qA-X0z8CXjeT",
        "colab": {
          "base_uri": "https://localhost:8080/",
          "height": 402
        },
        "outputId": "5be16cd5-f92c-4d7f-9f34-67036c8c6226"
      },
      "source": [
        "# '/content/drive/My Drive/Colab Notebooks/Wooky Pandas/diamonds-1.csv'\n",
        "# Membaca data dan memasukannya kedalam suatu variabel\n",
        "import pandas as pd\n",
        "# url = 'https://blog.sanbercode.com/wp-content/uploads/2020/04/diamonds-1.csv'\n",
        "# df_from_csv = pd.read_csv(\"diamonds-1.csv\")\n",
        "df_from_csv = pd.read_csv('https://drive.google.com/uc?id=13jtHSMJIa8gzYncyus2o2uTm-H_LFN0B')\n",
        "df_from_csv"
      ],
      "execution_count": null,
      "outputs": [
        {
          "output_type": "execute_result",
          "data": {
            "text/html": [
              "<div>\n",
              "<style scoped>\n",
              "    .dataframe tbody tr th:only-of-type {\n",
              "        vertical-align: middle;\n",
              "    }\n",
              "\n",
              "    .dataframe tbody tr th {\n",
              "        vertical-align: top;\n",
              "    }\n",
              "\n",
              "    .dataframe thead th {\n",
              "        text-align: right;\n",
              "    }\n",
              "</style>\n",
              "<table border=\"1\" class=\"dataframe\">\n",
              "  <thead>\n",
              "    <tr style=\"text-align: right;\">\n",
              "      <th></th>\n",
              "      <th>Unnamed: 0</th>\n",
              "      <th>carat</th>\n",
              "      <th>cut</th>\n",
              "      <th>color</th>\n",
              "      <th>clarity</th>\n",
              "      <th>depth</th>\n",
              "      <th>table</th>\n",
              "      <th>price</th>\n",
              "      <th>x</th>\n",
              "      <th>y</th>\n",
              "      <th>z</th>\n",
              "    </tr>\n",
              "  </thead>\n",
              "  <tbody>\n",
              "    <tr>\n",
              "      <th>0</th>\n",
              "      <td>1</td>\n",
              "      <td>0.23</td>\n",
              "      <td>Ideal</td>\n",
              "      <td>E</td>\n",
              "      <td>SI2</td>\n",
              "      <td>61.5</td>\n",
              "      <td>55.0</td>\n",
              "      <td>326</td>\n",
              "      <td>3.95</td>\n",
              "      <td>3.98</td>\n",
              "      <td>2.43</td>\n",
              "    </tr>\n",
              "    <tr>\n",
              "      <th>1</th>\n",
              "      <td>2</td>\n",
              "      <td>0.21</td>\n",
              "      <td>Premium</td>\n",
              "      <td>E</td>\n",
              "      <td>SI1</td>\n",
              "      <td>59.8</td>\n",
              "      <td>61.0</td>\n",
              "      <td>326</td>\n",
              "      <td>3.89</td>\n",
              "      <td>3.84</td>\n",
              "      <td>2.31</td>\n",
              "    </tr>\n",
              "    <tr>\n",
              "      <th>2</th>\n",
              "      <td>3</td>\n",
              "      <td>0.23</td>\n",
              "      <td>Good</td>\n",
              "      <td>E</td>\n",
              "      <td>VS1</td>\n",
              "      <td>56.9</td>\n",
              "      <td>65.0</td>\n",
              "      <td>327</td>\n",
              "      <td>4.05</td>\n",
              "      <td>4.07</td>\n",
              "      <td>2.31</td>\n",
              "    </tr>\n",
              "    <tr>\n",
              "      <th>3</th>\n",
              "      <td>4</td>\n",
              "      <td>0.29</td>\n",
              "      <td>Premium</td>\n",
              "      <td>I</td>\n",
              "      <td>VS2</td>\n",
              "      <td>62.4</td>\n",
              "      <td>58.0</td>\n",
              "      <td>334</td>\n",
              "      <td>4.20</td>\n",
              "      <td>4.23</td>\n",
              "      <td>2.63</td>\n",
              "    </tr>\n",
              "    <tr>\n",
              "      <th>4</th>\n",
              "      <td>5</td>\n",
              "      <td>0.31</td>\n",
              "      <td>Good</td>\n",
              "      <td>J</td>\n",
              "      <td>SI2</td>\n",
              "      <td>63.3</td>\n",
              "      <td>58.0</td>\n",
              "      <td>335</td>\n",
              "      <td>4.34</td>\n",
              "      <td>4.35</td>\n",
              "      <td>2.75</td>\n",
              "    </tr>\n",
              "    <tr>\n",
              "      <th>...</th>\n",
              "      <td>...</td>\n",
              "      <td>...</td>\n",
              "      <td>...</td>\n",
              "      <td>...</td>\n",
              "      <td>...</td>\n",
              "      <td>...</td>\n",
              "      <td>...</td>\n",
              "      <td>...</td>\n",
              "      <td>...</td>\n",
              "      <td>...</td>\n",
              "      <td>...</td>\n",
              "    </tr>\n",
              "    <tr>\n",
              "      <th>53935</th>\n",
              "      <td>53936</td>\n",
              "      <td>0.72</td>\n",
              "      <td>Ideal</td>\n",
              "      <td>D</td>\n",
              "      <td>SI1</td>\n",
              "      <td>60.8</td>\n",
              "      <td>57.0</td>\n",
              "      <td>2757</td>\n",
              "      <td>5.75</td>\n",
              "      <td>5.76</td>\n",
              "      <td>3.50</td>\n",
              "    </tr>\n",
              "    <tr>\n",
              "      <th>53936</th>\n",
              "      <td>53937</td>\n",
              "      <td>0.72</td>\n",
              "      <td>Good</td>\n",
              "      <td>D</td>\n",
              "      <td>SI1</td>\n",
              "      <td>63.1</td>\n",
              "      <td>55.0</td>\n",
              "      <td>2757</td>\n",
              "      <td>5.69</td>\n",
              "      <td>5.75</td>\n",
              "      <td>3.61</td>\n",
              "    </tr>\n",
              "    <tr>\n",
              "      <th>53937</th>\n",
              "      <td>53938</td>\n",
              "      <td>0.70</td>\n",
              "      <td>Very Good</td>\n",
              "      <td>D</td>\n",
              "      <td>SI1</td>\n",
              "      <td>62.8</td>\n",
              "      <td>60.0</td>\n",
              "      <td>2757</td>\n",
              "      <td>5.66</td>\n",
              "      <td>5.68</td>\n",
              "      <td>3.56</td>\n",
              "    </tr>\n",
              "    <tr>\n",
              "      <th>53938</th>\n",
              "      <td>53939</td>\n",
              "      <td>0.86</td>\n",
              "      <td>Premium</td>\n",
              "      <td>H</td>\n",
              "      <td>SI2</td>\n",
              "      <td>61.0</td>\n",
              "      <td>58.0</td>\n",
              "      <td>2757</td>\n",
              "      <td>6.15</td>\n",
              "      <td>6.12</td>\n",
              "      <td>3.74</td>\n",
              "    </tr>\n",
              "    <tr>\n",
              "      <th>53939</th>\n",
              "      <td>53940</td>\n",
              "      <td>0.75</td>\n",
              "      <td>Ideal</td>\n",
              "      <td>D</td>\n",
              "      <td>SI2</td>\n",
              "      <td>62.2</td>\n",
              "      <td>55.0</td>\n",
              "      <td>2757</td>\n",
              "      <td>5.83</td>\n",
              "      <td>5.87</td>\n",
              "      <td>3.64</td>\n",
              "    </tr>\n",
              "  </tbody>\n",
              "</table>\n",
              "<p>53940 rows × 11 columns</p>\n",
              "</div>"
            ],
            "text/plain": [
              "       Unnamed: 0  carat        cut color  ... price     x     y     z\n",
              "0               1   0.23      Ideal     E  ...   326  3.95  3.98  2.43\n",
              "1               2   0.21    Premium     E  ...   326  3.89  3.84  2.31\n",
              "2               3   0.23       Good     E  ...   327  4.05  4.07  2.31\n",
              "3               4   0.29    Premium     I  ...   334  4.20  4.23  2.63\n",
              "4               5   0.31       Good     J  ...   335  4.34  4.35  2.75\n",
              "...           ...    ...        ...   ...  ...   ...   ...   ...   ...\n",
              "53935       53936   0.72      Ideal     D  ...  2757  5.75  5.76  3.50\n",
              "53936       53937   0.72       Good     D  ...  2757  5.69  5.75  3.61\n",
              "53937       53938   0.70  Very Good     D  ...  2757  5.66  5.68  3.56\n",
              "53938       53939   0.86    Premium     H  ...  2757  6.15  6.12  3.74\n",
              "53939       53940   0.75      Ideal     D  ...  2757  5.83  5.87  3.64\n",
              "\n",
              "[53940 rows x 11 columns]"
            ]
          },
          "metadata": {
            "tags": []
          },
          "execution_count": 57
        }
      ]
    },
    {
      "cell_type": "code",
      "metadata": {
        "id": "fVEcBNdbXIqc",
        "colab": {
          "base_uri": "https://localhost:8080/"
        },
        "outputId": "edcad9bd-9133-4dc2-fdfa-7a4a41eb7ebf"
      },
      "source": [
        "# code here\n",
        "# Dengan index\n",
        "df_from_csv['price'][[0]]\n",
        "# Dengan method loc\n",
        "df_from_csv.loc[0, ['price']]\n",
        "# Dengan method iloc\n",
        "df_from_csv['price'].iloc[[0]]\n",
        "# Dengan method head\n",
        "df_from_csv['price'].head(1)"
      ],
      "execution_count": null,
      "outputs": [
        {
          "output_type": "execute_result",
          "data": {
            "text/plain": [
              "0    326\n",
              "Name: price, dtype: int64"
            ]
          },
          "metadata": {
            "tags": []
          },
          "execution_count": 112
        }
      ]
    },
    {
      "cell_type": "code",
      "metadata": {
        "id": "PbqGtnJuXLl4",
        "colab": {
          "base_uri": "https://localhost:8080/"
        },
        "outputId": "4e8d4aab-0f71-4394-d758-f054bd8f4c2e"
      },
      "source": [
        "# Dengan index\n",
        "df_from_csv['color'][[len(df_from_csv)-1]]\n",
        "# Dengan method tail()\n",
        "df_from_csv['color'].tail(1)"
      ],
      "execution_count": null,
      "outputs": [
        {
          "output_type": "execute_result",
          "data": {
            "text/plain": [
              "53939    D\n",
              "Name: color, dtype: object"
            ]
          },
          "metadata": {
            "tags": []
          },
          "execution_count": 113
        }
      ]
    },
    {
      "cell_type": "markdown",
      "metadata": {
        "id": "vd0o2z22eGu9"
      },
      "source": [
        "## Row Selection"
      ]
    },
    {
      "cell_type": "markdown",
      "metadata": {
        "id": "cLg64MlrefDM"
      },
      "source": [
        "### Selection by Label"
      ]
    },
    {
      "cell_type": "code",
      "metadata": {
        "id": "E5VdtSofeJ9w",
        "colab": {
          "base_uri": "https://localhost:8080/"
        },
        "outputId": "261163ad-99fa-47ae-ce3b-3b211051a092"
      },
      "source": [
        "# using loc[]\n",
        "import pandas as pd\n",
        "\n",
        "d = {'one' : pd.Series([1, 2, 3], index=['a', 'b', 'c']), \n",
        "   'two' : pd.Series([1, 2, 3, 4], index=['a', 'b', 'c', 'd'])}\n",
        "\n",
        "data_frame = pd.DataFrame(d)\n",
        "print(data_frame.loc['b'])"
      ],
      "execution_count": null,
      "outputs": [
        {
          "output_type": "stream",
          "text": [
            "one    2.0\n",
            "two    2.0\n",
            "Name: b, dtype: float64\n"
          ],
          "name": "stdout"
        }
      ]
    },
    {
      "cell_type": "markdown",
      "metadata": {
        "id": "4o4JPyU9eglk"
      },
      "source": [
        "### Selection by integer location\n"
      ]
    },
    {
      "cell_type": "code",
      "metadata": {
        "id": "U2JNqh0YeX5R",
        "colab": {
          "base_uri": "https://localhost:8080/"
        },
        "outputId": "37ddd95d-5b37-4c96-e42b-f69ca65d03d9"
      },
      "source": [
        "# using iloc[]\n",
        "import pandas as pd\n",
        "\n",
        "d = {'one' : pd.Series([1, 2, 3], index=['a', 'b', 'c']),\n",
        "   'two' : pd.Series([1, 2, 3, 4], index=['a', 'b', 'c', 'd'])}\n",
        "\n",
        "df = pd.DataFrame(d)\n",
        "print(df.iloc[2])"
      ],
      "execution_count": null,
      "outputs": [
        {
          "output_type": "stream",
          "text": [
            "one    3.0\n",
            "two    3.0\n",
            "Name: c, dtype: float64\n"
          ],
          "name": "stdout"
        }
      ]
    },
    {
      "cell_type": "markdown",
      "metadata": {
        "id": "gehrleObesLg"
      },
      "source": [
        "### Slice Rows\n",
        "Multiple rows can be selected using ‘ : ’ operator."
      ]
    },
    {
      "cell_type": "code",
      "metadata": {
        "id": "xzagG0JafQdn",
        "colab": {
          "base_uri": "https://localhost:8080/"
        },
        "outputId": "cf1519b2-e79a-484c-fe6c-9fd7cbfa76e6"
      },
      "source": [
        "# using [ : ] bukan [index]\n",
        "import pandas as pd\n",
        "\n",
        "d = {'one' : pd.Series([1, 2, 3], index=['a', 'b', 'c']), \n",
        "   'two' : pd.Series([1, 2, 3, 4], index=['a', 'b', 'c', 'd'])}\n",
        "\n",
        "df = pd.DataFrame(d)\n",
        "print(df[2:4])"
      ],
      "execution_count": null,
      "outputs": [
        {
          "output_type": "stream",
          "text": [
            "   one  two\n",
            "c  3.0    3\n",
            "d  NaN    4\n"
          ],
          "name": "stdout"
        }
      ]
    },
    {
      "cell_type": "markdown",
      "metadata": {
        "id": "dI9IAMvGMzzw"
      },
      "source": [
        "# **Hierarchical indexing (MultiIndex)**\n",
        "\n",
        "There are various ways to create multiple indices. One of the simplest ways to create a multi index *Series* or *DataFrame* object is by passing a list of two or more arrays to the constructor:\n"
      ]
    },
    {
      "cell_type": "code",
      "metadata": {
        "id": "RH9bCXbFNAfR",
        "colab": {
          "base_uri": "https://localhost:8080/",
          "height": 166
        },
        "outputId": "b9da56ad-8428-41c2-91f8-538107e265f1"
      },
      "source": [
        "import numpy as np\n",
        "df = pd.DataFrame(np.random.rand(4,2),\n",
        "                  index = [['a', 'a', 'b', 'b'], [1, 2, 1, 2]],\n",
        "                  columns=['data1', 'data2'])\n",
        "df"
      ],
      "execution_count": null,
      "outputs": [
        {
          "output_type": "execute_result",
          "data": {
            "text/html": [
              "<div>\n",
              "<style scoped>\n",
              "    .dataframe tbody tr th:only-of-type {\n",
              "        vertical-align: middle;\n",
              "    }\n",
              "\n",
              "    .dataframe tbody tr th {\n",
              "        vertical-align: top;\n",
              "    }\n",
              "\n",
              "    .dataframe thead th {\n",
              "        text-align: right;\n",
              "    }\n",
              "</style>\n",
              "<table border=\"1\" class=\"dataframe\">\n",
              "  <thead>\n",
              "    <tr style=\"text-align: right;\">\n",
              "      <th></th>\n",
              "      <th></th>\n",
              "      <th>data1</th>\n",
              "      <th>data2</th>\n",
              "    </tr>\n",
              "  </thead>\n",
              "  <tbody>\n",
              "    <tr>\n",
              "      <th rowspan=\"2\" valign=\"top\">a</th>\n",
              "      <th>1</th>\n",
              "      <td>0.191958</td>\n",
              "      <td>0.735672</td>\n",
              "    </tr>\n",
              "    <tr>\n",
              "      <th>2</th>\n",
              "      <td>0.329246</td>\n",
              "      <td>0.074768</td>\n",
              "    </tr>\n",
              "    <tr>\n",
              "      <th rowspan=\"2\" valign=\"top\">b</th>\n",
              "      <th>1</th>\n",
              "      <td>0.291074</td>\n",
              "      <td>0.199261</td>\n",
              "    </tr>\n",
              "    <tr>\n",
              "      <th>2</th>\n",
              "      <td>0.074668</td>\n",
              "      <td>0.028758</td>\n",
              "    </tr>\n",
              "  </tbody>\n",
              "</table>\n",
              "</div>"
            ],
            "text/plain": [
              "        data1     data2\n",
              "a 1  0.191958  0.735672\n",
              "  2  0.329246  0.074768\n",
              "b 1  0.291074  0.199261\n",
              "  2  0.074668  0.028758"
            ]
          },
          "metadata": {
            "tags": []
          },
          "execution_count": 117
        }
      ]
    },
    {
      "cell_type": "markdown",
      "metadata": {
        "id": "uhGnd60wN7Bu"
      },
      "source": [
        "Other options include passing a dictionary where the keys are spelled out as tuples:"
      ]
    },
    {
      "cell_type": "code",
      "metadata": {
        "id": "Lk5h4DeEOrTC",
        "colab": {
          "base_uri": "https://localhost:8080/"
        },
        "outputId": "d96c37e4-10cb-4d74-de65-efb7689481b2"
      },
      "source": [
        "data = {\n",
        "    ('California', 2000):33871648,\n",
        "    ('California', 2010):37253956,\n",
        "    ('Texas', 2000):20851820,\n",
        "    ('Texas', 2010):25142261,\n",
        "    ('New York', 2000):1697657,\n",
        "    ('New York', 2010):1232345\n",
        "}\n",
        "\n",
        "pd.Series(data)"
      ],
      "execution_count": null,
      "outputs": [
        {
          "output_type": "execute_result",
          "data": {
            "text/plain": [
              "California  2000    33871648\n",
              "            2010    37253956\n",
              "Texas       2000    20851820\n",
              "            2010    25142261\n",
              "New York    2000     1697657\n",
              "            2010     1232345\n",
              "dtype: int64"
            ]
          },
          "metadata": {
            "tags": []
          },
          "execution_count": 118
        }
      ]
    },
    {
      "cell_type": "markdown",
      "metadata": {
        "id": "x12y1KQUSSl3"
      },
      "source": [
        "Finally, you can explicitly create a multi index by using the class method constructors available in the `pd.MultiIndex`:\n",
        "\n",
        "The `MultiIndex` object is the hierarchical analogue of the standard `Index` object which typically stores the axis labels in pandas objects. You can think of MultiIndex as an array of tuples where each tuple is unique. A *MultiIndex* can be created from a list of arrays (using `MultiIndex.from_arrays()`), an array of tuples (using `MultiIndex.from_tuples()`), a crossed set of iterables (using `MultiIndex.from_product()`), or a DataFrame (using `MultiIndex.from_frame()`). The *Index* constructor will attempt to return a *MultiIndex* when it is passed a list of tuples. The following examples demonstrate different ways to initialize MultiIndexes."
      ]
    },
    {
      "cell_type": "code",
      "metadata": {
        "id": "EOUoNv2RSQjy",
        "colab": {
          "base_uri": "https://localhost:8080/"
        },
        "outputId": "64b419ab-da6a-48e1-fbb8-8ab7975138dc"
      },
      "source": [
        "index = pd.MultiIndex.from_arrays([['a', 'a', 'b', 'b'], [1, 2, 1, 2]])\n",
        "index"
      ],
      "execution_count": null,
      "outputs": [
        {
          "output_type": "execute_result",
          "data": {
            "text/plain": [
              "MultiIndex([('a', 1),\n",
              "            ('a', 2),\n",
              "            ('b', 1),\n",
              "            ('b', 2)],\n",
              "           )"
            ]
          },
          "metadata": {
            "tags": []
          },
          "execution_count": 119
        }
      ]
    },
    {
      "cell_type": "code",
      "metadata": {
        "id": "RNJyn2mOfQsG",
        "colab": {
          "base_uri": "https://localhost:8080/",
          "height": 166
        },
        "outputId": "24aaec31-46ce-46f8-fa46-7e2d7f6a06f7"
      },
      "source": [
        "df = pd.DataFrame(np.random.randn(4, 2), index=index)\n",
        "df"
      ],
      "execution_count": null,
      "outputs": [
        {
          "output_type": "execute_result",
          "data": {
            "text/html": [
              "<div>\n",
              "<style scoped>\n",
              "    .dataframe tbody tr th:only-of-type {\n",
              "        vertical-align: middle;\n",
              "    }\n",
              "\n",
              "    .dataframe tbody tr th {\n",
              "        vertical-align: top;\n",
              "    }\n",
              "\n",
              "    .dataframe thead th {\n",
              "        text-align: right;\n",
              "    }\n",
              "</style>\n",
              "<table border=\"1\" class=\"dataframe\">\n",
              "  <thead>\n",
              "    <tr style=\"text-align: right;\">\n",
              "      <th></th>\n",
              "      <th></th>\n",
              "      <th>0</th>\n",
              "      <th>1</th>\n",
              "    </tr>\n",
              "  </thead>\n",
              "  <tbody>\n",
              "    <tr>\n",
              "      <th rowspan=\"2\" valign=\"top\">a</th>\n",
              "      <th>1</th>\n",
              "      <td>-0.375910</td>\n",
              "      <td>-1.199043</td>\n",
              "    </tr>\n",
              "    <tr>\n",
              "      <th>2</th>\n",
              "      <td>-0.034927</td>\n",
              "      <td>1.185361</td>\n",
              "    </tr>\n",
              "    <tr>\n",
              "      <th rowspan=\"2\" valign=\"top\">b</th>\n",
              "      <th>1</th>\n",
              "      <td>1.856595</td>\n",
              "      <td>1.737984</td>\n",
              "    </tr>\n",
              "    <tr>\n",
              "      <th>2</th>\n",
              "      <td>-1.152457</td>\n",
              "      <td>0.605851</td>\n",
              "    </tr>\n",
              "  </tbody>\n",
              "</table>\n",
              "</div>"
            ],
            "text/plain": [
              "            0         1\n",
              "a 1 -0.375910 -1.199043\n",
              "  2 -0.034927  1.185361\n",
              "b 1  1.856595  1.737984\n",
              "  2 -1.152457  0.605851"
            ]
          },
          "metadata": {
            "tags": []
          },
          "execution_count": 120
        }
      ]
    },
    {
      "cell_type": "code",
      "metadata": {
        "id": "s4zRbk2eZtRz",
        "colab": {
          "base_uri": "https://localhost:8080/"
        },
        "outputId": "fa9ee7ab-9dda-422c-c0cd-2e5f663d63b7"
      },
      "source": [
        "arrays = [['bar', 'bar', 'baz', 'baz', 'foo', 'foo', 'qux', 'qux'],\n",
        "          ['one', 'two', 'one', 'two', 'one', 'two', 'one', 'two']]\n",
        "tuples = list(zip(*arrays))\n",
        "tuples"
      ],
      "execution_count": null,
      "outputs": [
        {
          "output_type": "execute_result",
          "data": {
            "text/plain": [
              "[('bar', 'one'),\n",
              " ('bar', 'two'),\n",
              " ('baz', 'one'),\n",
              " ('baz', 'two'),\n",
              " ('foo', 'one'),\n",
              " ('foo', 'two'),\n",
              " ('qux', 'one'),\n",
              " ('qux', 'two')]"
            ]
          },
          "metadata": {
            "tags": []
          },
          "execution_count": 121
        }
      ]
    },
    {
      "cell_type": "code",
      "metadata": {
        "id": "_0qDJP8yaAd8",
        "colab": {
          "base_uri": "https://localhost:8080/"
        },
        "outputId": "58d8097b-9043-468e-f0b5-06a1ece3cbb6"
      },
      "source": [
        "index = pd.MultiIndex.from_tuples(tuples, names=['first', 'second'])\n",
        "index"
      ],
      "execution_count": null,
      "outputs": [
        {
          "output_type": "execute_result",
          "data": {
            "text/plain": [
              "MultiIndex([('bar', 'one'),\n",
              "            ('bar', 'two'),\n",
              "            ('baz', 'one'),\n",
              "            ('baz', 'two'),\n",
              "            ('foo', 'one'),\n",
              "            ('foo', 'two'),\n",
              "            ('qux', 'one'),\n",
              "            ('qux', 'two')],\n",
              "           names=['first', 'second'])"
            ]
          },
          "metadata": {
            "tags": []
          },
          "execution_count": 122
        }
      ]
    },
    {
      "cell_type": "code",
      "metadata": {
        "id": "B1119hUjaLvh",
        "colab": {
          "base_uri": "https://localhost:8080/"
        },
        "outputId": "0456654e-a051-4c68-a77d-e942beb0bfac"
      },
      "source": [
        "s = pd.Series(np.random.randn(8), index=index)\n",
        "s"
      ],
      "execution_count": null,
      "outputs": [
        {
          "output_type": "execute_result",
          "data": {
            "text/plain": [
              "first  second\n",
              "bar    one      -1.450953\n",
              "       two       0.336787\n",
              "baz    one       0.159252\n",
              "       two       0.166551\n",
              "foo    one      -0.692493\n",
              "       two       0.585318\n",
              "qux    one      -2.053661\n",
              "       two       0.550555\n",
              "dtype: float64"
            ]
          },
          "metadata": {
            "tags": []
          },
          "execution_count": 123
        }
      ]
    },
    {
      "cell_type": "markdown",
      "metadata": {
        "id": "mAf5y-H7dOjA"
      },
      "source": [
        "When you want every pairing of the elements in two iterables, it can be easier to use the `MultiIndex.from_product()` method:"
      ]
    },
    {
      "cell_type": "code",
      "metadata": {
        "id": "BlgIi_y4dSDY",
        "colab": {
          "base_uri": "https://localhost:8080/"
        },
        "outputId": "e8de313c-bf2c-43ca-963a-3d1fcf1b53f5"
      },
      "source": [
        "iterables = [['bar', 'baz', 'foo', 'qux'], ['one', 'two']]\n",
        "\n",
        "index = pd.MultiIndex.from_product(iterables, names=['first', 'second'])\n",
        "index"
      ],
      "execution_count": null,
      "outputs": [
        {
          "output_type": "execute_result",
          "data": {
            "text/plain": [
              "MultiIndex([('bar', 'one'),\n",
              "            ('bar', 'two'),\n",
              "            ('baz', 'one'),\n",
              "            ('baz', 'two'),\n",
              "            ('foo', 'one'),\n",
              "            ('foo', 'two'),\n",
              "            ('qux', 'one'),\n",
              "            ('qux', 'two')],\n",
              "           names=['first', 'second'])"
            ]
          },
          "metadata": {
            "tags": []
          },
          "execution_count": 124
        }
      ]
    },
    {
      "cell_type": "code",
      "metadata": {
        "id": "n4PDU11Ne146",
        "colab": {
          "base_uri": "https://localhost:8080/",
          "height": 314
        },
        "outputId": "3bf6887a-a8ba-44d1-dc7f-f3272f3829f9"
      },
      "source": [
        "df = pd.DataFrame(np.random.randn(8, 2), index=index)\n",
        "df"
      ],
      "execution_count": null,
      "outputs": [
        {
          "output_type": "execute_result",
          "data": {
            "text/html": [
              "<div>\n",
              "<style scoped>\n",
              "    .dataframe tbody tr th:only-of-type {\n",
              "        vertical-align: middle;\n",
              "    }\n",
              "\n",
              "    .dataframe tbody tr th {\n",
              "        vertical-align: top;\n",
              "    }\n",
              "\n",
              "    .dataframe thead th {\n",
              "        text-align: right;\n",
              "    }\n",
              "</style>\n",
              "<table border=\"1\" class=\"dataframe\">\n",
              "  <thead>\n",
              "    <tr style=\"text-align: right;\">\n",
              "      <th></th>\n",
              "      <th></th>\n",
              "      <th>0</th>\n",
              "      <th>1</th>\n",
              "    </tr>\n",
              "    <tr>\n",
              "      <th>first</th>\n",
              "      <th>second</th>\n",
              "      <th></th>\n",
              "      <th></th>\n",
              "    </tr>\n",
              "  </thead>\n",
              "  <tbody>\n",
              "    <tr>\n",
              "      <th rowspan=\"2\" valign=\"top\">bar</th>\n",
              "      <th>one</th>\n",
              "      <td>-0.446528</td>\n",
              "      <td>-0.600478</td>\n",
              "    </tr>\n",
              "    <tr>\n",
              "      <th>two</th>\n",
              "      <td>0.830847</td>\n",
              "      <td>-0.261584</td>\n",
              "    </tr>\n",
              "    <tr>\n",
              "      <th rowspan=\"2\" valign=\"top\">baz</th>\n",
              "      <th>one</th>\n",
              "      <td>-0.456086</td>\n",
              "      <td>0.960811</td>\n",
              "    </tr>\n",
              "    <tr>\n",
              "      <th>two</th>\n",
              "      <td>-0.441737</td>\n",
              "      <td>0.446136</td>\n",
              "    </tr>\n",
              "    <tr>\n",
              "      <th rowspan=\"2\" valign=\"top\">foo</th>\n",
              "      <th>one</th>\n",
              "      <td>0.630356</td>\n",
              "      <td>-1.033613</td>\n",
              "    </tr>\n",
              "    <tr>\n",
              "      <th>two</th>\n",
              "      <td>1.443032</td>\n",
              "      <td>-1.341999</td>\n",
              "    </tr>\n",
              "    <tr>\n",
              "      <th rowspan=\"2\" valign=\"top\">qux</th>\n",
              "      <th>one</th>\n",
              "      <td>-0.074871</td>\n",
              "      <td>-0.963940</td>\n",
              "    </tr>\n",
              "    <tr>\n",
              "      <th>two</th>\n",
              "      <td>0.801418</td>\n",
              "      <td>-2.053664</td>\n",
              "    </tr>\n",
              "  </tbody>\n",
              "</table>\n",
              "</div>"
            ],
            "text/plain": [
              "                     0         1\n",
              "first second                    \n",
              "bar   one    -0.446528 -0.600478\n",
              "      two     0.830847 -0.261584\n",
              "baz   one    -0.456086  0.960811\n",
              "      two    -0.441737  0.446136\n",
              "foo   one     0.630356 -1.033613\n",
              "      two     1.443032 -1.341999\n",
              "qux   one    -0.074871 -0.963940\n",
              "      two     0.801418 -2.053664"
            ]
          },
          "metadata": {
            "tags": []
          },
          "execution_count": 125
        }
      ]
    },
    {
      "cell_type": "markdown",
      "metadata": {
        "id": "19gDoyEueDDs"
      },
      "source": [
        "You can also construct a *MultiIndex* from a *DataFrame* directly, using the method `MultiIndex.from_frame()`. This is a complementary method to `MultiIndex.to_frame()`."
      ]
    },
    {
      "cell_type": "code",
      "metadata": {
        "id": "K8KGrhtodmH7",
        "colab": {
          "base_uri": "https://localhost:8080/"
        },
        "outputId": "ec67d7cd-c3e4-4cde-8b55-eb8e33cabe61"
      },
      "source": [
        "df = pd.DataFrame([['bar', 'one'], ['bar', 'two'],\n",
        "                    ['foo', 'one'], ['foo', 'two']],\n",
        "                   columns=['first', 'second'])\n",
        "index = pd.MultiIndex.from_frame(df)\n",
        "index"
      ],
      "execution_count": null,
      "outputs": [
        {
          "output_type": "execute_result",
          "data": {
            "text/plain": [
              "MultiIndex([('bar', 'one'),\n",
              "            ('bar', 'two'),\n",
              "            ('foo', 'one'),\n",
              "            ('foo', 'two')],\n",
              "           names=['first', 'second'])"
            ]
          },
          "metadata": {
            "tags": []
          },
          "execution_count": 126
        }
      ]
    },
    {
      "cell_type": "code",
      "metadata": {
        "id": "ysmH1KSrel-K",
        "colab": {
          "base_uri": "https://localhost:8080/",
          "height": 195
        },
        "outputId": "5c9f54cf-0962-4251-894d-228ee48c8ac1"
      },
      "source": [
        "df = pd.DataFrame(np.random.randn(4, 4), index=index)\n",
        "df"
      ],
      "execution_count": null,
      "outputs": [
        {
          "output_type": "execute_result",
          "data": {
            "text/html": [
              "<div>\n",
              "<style scoped>\n",
              "    .dataframe tbody tr th:only-of-type {\n",
              "        vertical-align: middle;\n",
              "    }\n",
              "\n",
              "    .dataframe tbody tr th {\n",
              "        vertical-align: top;\n",
              "    }\n",
              "\n",
              "    .dataframe thead th {\n",
              "        text-align: right;\n",
              "    }\n",
              "</style>\n",
              "<table border=\"1\" class=\"dataframe\">\n",
              "  <thead>\n",
              "    <tr style=\"text-align: right;\">\n",
              "      <th></th>\n",
              "      <th></th>\n",
              "      <th>0</th>\n",
              "      <th>1</th>\n",
              "      <th>2</th>\n",
              "      <th>3</th>\n",
              "    </tr>\n",
              "    <tr>\n",
              "      <th>first</th>\n",
              "      <th>second</th>\n",
              "      <th></th>\n",
              "      <th></th>\n",
              "      <th></th>\n",
              "      <th></th>\n",
              "    </tr>\n",
              "  </thead>\n",
              "  <tbody>\n",
              "    <tr>\n",
              "      <th rowspan=\"2\" valign=\"top\">bar</th>\n",
              "      <th>one</th>\n",
              "      <td>1.669828</td>\n",
              "      <td>-0.158139</td>\n",
              "      <td>0.193261</td>\n",
              "      <td>-1.125852</td>\n",
              "    </tr>\n",
              "    <tr>\n",
              "      <th>two</th>\n",
              "      <td>-0.113557</td>\n",
              "      <td>-0.721773</td>\n",
              "      <td>-0.189731</td>\n",
              "      <td>0.949863</td>\n",
              "    </tr>\n",
              "    <tr>\n",
              "      <th rowspan=\"2\" valign=\"top\">foo</th>\n",
              "      <th>one</th>\n",
              "      <td>-0.920419</td>\n",
              "      <td>0.908591</td>\n",
              "      <td>-0.765646</td>\n",
              "      <td>-0.379713</td>\n",
              "    </tr>\n",
              "    <tr>\n",
              "      <th>two</th>\n",
              "      <td>0.066212</td>\n",
              "      <td>0.392036</td>\n",
              "      <td>0.453816</td>\n",
              "      <td>0.327650</td>\n",
              "    </tr>\n",
              "  </tbody>\n",
              "</table>\n",
              "</div>"
            ],
            "text/plain": [
              "                     0         1         2         3\n",
              "first second                                        \n",
              "bar   one     1.669828 -0.158139  0.193261 -1.125852\n",
              "      two    -0.113557 -0.721773 -0.189731  0.949863\n",
              "foo   one    -0.920419  0.908591 -0.765646 -0.379713\n",
              "      two     0.066212  0.392036  0.453816  0.327650"
            ]
          },
          "metadata": {
            "tags": []
          },
          "execution_count": 127
        }
      ]
    },
    {
      "cell_type": "markdown",
      "metadata": {
        "id": "QeDyuStDeXti"
      },
      "source": [
        "As a convenience, you can pass a list of arrays directly into Series or DataFrame to construct a MultiIndex automatically:"
      ]
    },
    {
      "cell_type": "code",
      "metadata": {
        "id": "vjYTLRx8ec4T",
        "colab": {
          "base_uri": "https://localhost:8080/"
        },
        "outputId": "d79bb131-a487-420a-d405-3a3f87fbe60d"
      },
      "source": [
        "arrays = [np.array(['bar', 'bar', 'baz', 'baz', 'foo', 'foo', 'qux', 'qux']),\n",
        "           np.array(['one', 'two', 'one', 'two', 'one', 'two', 'one', 'two'])]\n",
        " \n",
        "\n",
        "s = pd.Series(np.random.randn(8), index=arrays)\n",
        "s"
      ],
      "execution_count": null,
      "outputs": [
        {
          "output_type": "execute_result",
          "data": {
            "text/plain": [
              "bar  one    1.001029\n",
              "     two   -0.095759\n",
              "baz  one   -0.226156\n",
              "     two   -0.198277\n",
              "foo  one    0.314267\n",
              "     two   -0.773739\n",
              "qux  one    1.283181\n",
              "     two    1.236932\n",
              "dtype: float64"
            ]
          },
          "metadata": {
            "tags": []
          },
          "execution_count": 128
        }
      ]
    },
    {
      "cell_type": "code",
      "metadata": {
        "id": "Pr36cXsteiTf",
        "colab": {
          "base_uri": "https://localhost:8080/",
          "height": 284
        },
        "outputId": "b1c7205f-a9e2-42b2-a06b-c261bf766f3f"
      },
      "source": [
        "df = pd.DataFrame(np.random.randn(8, 4), index=arrays)\n",
        "df"
      ],
      "execution_count": null,
      "outputs": [
        {
          "output_type": "execute_result",
          "data": {
            "text/html": [
              "<div>\n",
              "<style scoped>\n",
              "    .dataframe tbody tr th:only-of-type {\n",
              "        vertical-align: middle;\n",
              "    }\n",
              "\n",
              "    .dataframe tbody tr th {\n",
              "        vertical-align: top;\n",
              "    }\n",
              "\n",
              "    .dataframe thead th {\n",
              "        text-align: right;\n",
              "    }\n",
              "</style>\n",
              "<table border=\"1\" class=\"dataframe\">\n",
              "  <thead>\n",
              "    <tr style=\"text-align: right;\">\n",
              "      <th></th>\n",
              "      <th></th>\n",
              "      <th>0</th>\n",
              "      <th>1</th>\n",
              "      <th>2</th>\n",
              "      <th>3</th>\n",
              "    </tr>\n",
              "  </thead>\n",
              "  <tbody>\n",
              "    <tr>\n",
              "      <th rowspan=\"2\" valign=\"top\">bar</th>\n",
              "      <th>one</th>\n",
              "      <td>0.720290</td>\n",
              "      <td>-0.127454</td>\n",
              "      <td>0.726087</td>\n",
              "      <td>0.583251</td>\n",
              "    </tr>\n",
              "    <tr>\n",
              "      <th>two</th>\n",
              "      <td>-0.014694</td>\n",
              "      <td>1.516529</td>\n",
              "      <td>0.274758</td>\n",
              "      <td>0.438513</td>\n",
              "    </tr>\n",
              "    <tr>\n",
              "      <th rowspan=\"2\" valign=\"top\">baz</th>\n",
              "      <th>one</th>\n",
              "      <td>0.994992</td>\n",
              "      <td>0.601611</td>\n",
              "      <td>1.753035</td>\n",
              "      <td>0.864451</td>\n",
              "    </tr>\n",
              "    <tr>\n",
              "      <th>two</th>\n",
              "      <td>-0.971775</td>\n",
              "      <td>-1.461290</td>\n",
              "      <td>0.121570</td>\n",
              "      <td>2.239460</td>\n",
              "    </tr>\n",
              "    <tr>\n",
              "      <th rowspan=\"2\" valign=\"top\">foo</th>\n",
              "      <th>one</th>\n",
              "      <td>-1.099298</td>\n",
              "      <td>-1.953045</td>\n",
              "      <td>2.314444</td>\n",
              "      <td>0.215336</td>\n",
              "    </tr>\n",
              "    <tr>\n",
              "      <th>two</th>\n",
              "      <td>0.470668</td>\n",
              "      <td>-0.138696</td>\n",
              "      <td>0.422923</td>\n",
              "      <td>-0.624436</td>\n",
              "    </tr>\n",
              "    <tr>\n",
              "      <th rowspan=\"2\" valign=\"top\">qux</th>\n",
              "      <th>one</th>\n",
              "      <td>0.602329</td>\n",
              "      <td>-0.015627</td>\n",
              "      <td>0.023715</td>\n",
              "      <td>0.594784</td>\n",
              "    </tr>\n",
              "    <tr>\n",
              "      <th>two</th>\n",
              "      <td>0.739058</td>\n",
              "      <td>1.094646</td>\n",
              "      <td>-0.104579</td>\n",
              "      <td>0.557339</td>\n",
              "    </tr>\n",
              "  </tbody>\n",
              "</table>\n",
              "</div>"
            ],
            "text/plain": [
              "                0         1         2         3\n",
              "bar one  0.720290 -0.127454  0.726087  0.583251\n",
              "    two -0.014694  1.516529  0.274758  0.438513\n",
              "baz one  0.994992  0.601611  1.753035  0.864451\n",
              "    two -0.971775 -1.461290  0.121570  2.239460\n",
              "foo one -1.099298 -1.953045  2.314444  0.215336\n",
              "    two  0.470668 -0.138696  0.422923 -0.624436\n",
              "qux one  0.602329 -0.015627  0.023715  0.594784\n",
              "    two  0.739058  1.094646 -0.104579  0.557339"
            ]
          },
          "metadata": {
            "tags": []
          },
          "execution_count": 129
        }
      ]
    },
    {
      "cell_type": "code",
      "metadata": {
        "id": "qtwhTIWtVll3",
        "colab": {
          "base_uri": "https://localhost:8080/"
        },
        "outputId": "c244d429-dfc3-4e7f-c1b9-d43d9e10e4fe"
      },
      "source": [
        "index = pd.MultiIndex.from_tuples(tuples, names=['first', 'second'])\n",
        "index"
      ],
      "execution_count": null,
      "outputs": [
        {
          "output_type": "execute_result",
          "data": {
            "text/plain": [
              "MultiIndex([('bar', 'one'),\n",
              "            ('bar', 'two'),\n",
              "            ('baz', 'one'),\n",
              "            ('baz', 'two'),\n",
              "            ('foo', 'one'),\n",
              "            ('foo', 'two'),\n",
              "            ('qux', 'one'),\n",
              "            ('qux', 'two')],\n",
              "           names=['first', 'second'])"
            ]
          },
          "metadata": {
            "tags": []
          },
          "execution_count": 130
        }
      ]
    },
    {
      "cell_type": "code",
      "metadata": {
        "id": "rlPFFbXiVApx",
        "colab": {
          "base_uri": "https://localhost:8080/",
          "height": 166
        },
        "outputId": "0fd2f59b-7c64-43ec-e334-f884189a40c1"
      },
      "source": [
        "index = pd.MultiIndex.from_tuples(tuples, names=['first', 'second'])\n",
        "df = pd.DataFrame(np.random.randn(3, 8), index=['A', 'B', 'C'], columns=index)\n",
        "\n",
        "df"
      ],
      "execution_count": null,
      "outputs": [
        {
          "output_type": "execute_result",
          "data": {
            "text/html": [
              "<div>\n",
              "<style scoped>\n",
              "    .dataframe tbody tr th:only-of-type {\n",
              "        vertical-align: middle;\n",
              "    }\n",
              "\n",
              "    .dataframe tbody tr th {\n",
              "        vertical-align: top;\n",
              "    }\n",
              "\n",
              "    .dataframe thead tr th {\n",
              "        text-align: left;\n",
              "    }\n",
              "</style>\n",
              "<table border=\"1\" class=\"dataframe\">\n",
              "  <thead>\n",
              "    <tr>\n",
              "      <th>first</th>\n",
              "      <th colspan=\"2\" halign=\"left\">bar</th>\n",
              "      <th colspan=\"2\" halign=\"left\">baz</th>\n",
              "      <th colspan=\"2\" halign=\"left\">foo</th>\n",
              "      <th colspan=\"2\" halign=\"left\">qux</th>\n",
              "    </tr>\n",
              "    <tr>\n",
              "      <th>second</th>\n",
              "      <th>one</th>\n",
              "      <th>two</th>\n",
              "      <th>one</th>\n",
              "      <th>two</th>\n",
              "      <th>one</th>\n",
              "      <th>two</th>\n",
              "      <th>one</th>\n",
              "      <th>two</th>\n",
              "    </tr>\n",
              "  </thead>\n",
              "  <tbody>\n",
              "    <tr>\n",
              "      <th>A</th>\n",
              "      <td>1.977929</td>\n",
              "      <td>0.310577</td>\n",
              "      <td>0.343372</td>\n",
              "      <td>1.519940</td>\n",
              "      <td>-1.239362</td>\n",
              "      <td>-1.136126</td>\n",
              "      <td>0.721582</td>\n",
              "      <td>-0.213091</td>\n",
              "    </tr>\n",
              "    <tr>\n",
              "      <th>B</th>\n",
              "      <td>0.047276</td>\n",
              "      <td>-2.048441</td>\n",
              "      <td>-0.043465</td>\n",
              "      <td>0.351655</td>\n",
              "      <td>-1.376734</td>\n",
              "      <td>-0.729503</td>\n",
              "      <td>0.302202</td>\n",
              "      <td>-0.553847</td>\n",
              "    </tr>\n",
              "    <tr>\n",
              "      <th>C</th>\n",
              "      <td>-1.488986</td>\n",
              "      <td>-1.526919</td>\n",
              "      <td>-0.535978</td>\n",
              "      <td>0.781965</td>\n",
              "      <td>0.093357</td>\n",
              "      <td>0.172300</td>\n",
              "      <td>1.126817</td>\n",
              "      <td>-1.570736</td>\n",
              "    </tr>\n",
              "  </tbody>\n",
              "</table>\n",
              "</div>"
            ],
            "text/plain": [
              "first        bar                 baz  ...       foo       qux          \n",
              "second       one       two       one  ...       two       one       two\n",
              "A       1.977929  0.310577  0.343372  ... -1.136126  0.721582 -0.213091\n",
              "B       0.047276 -2.048441 -0.043465  ... -0.729503  0.302202 -0.553847\n",
              "C      -1.488986 -1.526919 -0.535978  ...  0.172300  1.126817 -1.570736\n",
              "\n",
              "[3 rows x 8 columns]"
            ]
          },
          "metadata": {
            "tags": []
          },
          "execution_count": 131
        }
      ]
    },
    {
      "cell_type": "code",
      "metadata": {
        "id": "o_Oa5gLiVb_B",
        "colab": {
          "base_uri": "https://localhost:8080/",
          "height": 284
        },
        "outputId": "1662f603-33ad-47bd-a0b5-935f57f9e224"
      },
      "source": [
        "pd.DataFrame(np.random.randn(6, 6), index=index[:6], columns=index[:6])"
      ],
      "execution_count": null,
      "outputs": [
        {
          "output_type": "execute_result",
          "data": {
            "text/html": [
              "<div>\n",
              "<style scoped>\n",
              "    .dataframe tbody tr th:only-of-type {\n",
              "        vertical-align: middle;\n",
              "    }\n",
              "\n",
              "    .dataframe tbody tr th {\n",
              "        vertical-align: top;\n",
              "    }\n",
              "\n",
              "    .dataframe thead tr th {\n",
              "        text-align: left;\n",
              "    }\n",
              "\n",
              "    .dataframe thead tr:last-of-type th {\n",
              "        text-align: right;\n",
              "    }\n",
              "</style>\n",
              "<table border=\"1\" class=\"dataframe\">\n",
              "  <thead>\n",
              "    <tr>\n",
              "      <th></th>\n",
              "      <th>first</th>\n",
              "      <th colspan=\"2\" halign=\"left\">bar</th>\n",
              "      <th colspan=\"2\" halign=\"left\">baz</th>\n",
              "      <th colspan=\"2\" halign=\"left\">foo</th>\n",
              "    </tr>\n",
              "    <tr>\n",
              "      <th></th>\n",
              "      <th>second</th>\n",
              "      <th>one</th>\n",
              "      <th>two</th>\n",
              "      <th>one</th>\n",
              "      <th>two</th>\n",
              "      <th>one</th>\n",
              "      <th>two</th>\n",
              "    </tr>\n",
              "    <tr>\n",
              "      <th>first</th>\n",
              "      <th>second</th>\n",
              "      <th></th>\n",
              "      <th></th>\n",
              "      <th></th>\n",
              "      <th></th>\n",
              "      <th></th>\n",
              "      <th></th>\n",
              "    </tr>\n",
              "  </thead>\n",
              "  <tbody>\n",
              "    <tr>\n",
              "      <th rowspan=\"2\" valign=\"top\">bar</th>\n",
              "      <th>one</th>\n",
              "      <td>-1.207885</td>\n",
              "      <td>-0.152734</td>\n",
              "      <td>1.386268</td>\n",
              "      <td>1.238305</td>\n",
              "      <td>-0.975371</td>\n",
              "      <td>-0.095688</td>\n",
              "    </tr>\n",
              "    <tr>\n",
              "      <th>two</th>\n",
              "      <td>0.104633</td>\n",
              "      <td>-0.875729</td>\n",
              "      <td>-0.083759</td>\n",
              "      <td>0.554125</td>\n",
              "      <td>-0.399765</td>\n",
              "      <td>-0.850266</td>\n",
              "    </tr>\n",
              "    <tr>\n",
              "      <th rowspan=\"2\" valign=\"top\">baz</th>\n",
              "      <th>one</th>\n",
              "      <td>-0.455436</td>\n",
              "      <td>-1.191882</td>\n",
              "      <td>0.191872</td>\n",
              "      <td>-0.830435</td>\n",
              "      <td>-1.237553</td>\n",
              "      <td>-0.106969</td>\n",
              "    </tr>\n",
              "    <tr>\n",
              "      <th>two</th>\n",
              "      <td>-0.886289</td>\n",
              "      <td>1.897934</td>\n",
              "      <td>-0.222069</td>\n",
              "      <td>-0.384882</td>\n",
              "      <td>-1.026755</td>\n",
              "      <td>0.457620</td>\n",
              "    </tr>\n",
              "    <tr>\n",
              "      <th rowspan=\"2\" valign=\"top\">foo</th>\n",
              "      <th>one</th>\n",
              "      <td>-0.341662</td>\n",
              "      <td>-1.660309</td>\n",
              "      <td>-2.882035</td>\n",
              "      <td>0.460975</td>\n",
              "      <td>0.595041</td>\n",
              "      <td>0.780822</td>\n",
              "    </tr>\n",
              "    <tr>\n",
              "      <th>two</th>\n",
              "      <td>-0.375039</td>\n",
              "      <td>-0.510959</td>\n",
              "      <td>0.188507</td>\n",
              "      <td>0.891795</td>\n",
              "      <td>0.335043</td>\n",
              "      <td>-0.841138</td>\n",
              "    </tr>\n",
              "  </tbody>\n",
              "</table>\n",
              "</div>"
            ],
            "text/plain": [
              "first              bar                 baz                 foo          \n",
              "second             one       two       one       two       one       two\n",
              "first second                                                            \n",
              "bar   one    -1.207885 -0.152734  1.386268  1.238305 -0.975371 -0.095688\n",
              "      two     0.104633 -0.875729 -0.083759  0.554125 -0.399765 -0.850266\n",
              "baz   one    -0.455436 -1.191882  0.191872 -0.830435 -1.237553 -0.106969\n",
              "      two    -0.886289  1.897934 -0.222069 -0.384882 -1.026755  0.457620\n",
              "foo   one    -0.341662 -1.660309 -2.882035  0.460975  0.595041  0.780822\n",
              "      two    -0.375039 -0.510959  0.188507  0.891795  0.335043 -0.841138"
            ]
          },
          "metadata": {
            "tags": []
          },
          "execution_count": 132
        }
      ]
    },
    {
      "cell_type": "markdown",
      "metadata": {
        "id": "IJuuClO-V45P"
      },
      "source": [
        "Reconstructing the level labels \n",
        "\n",
        "Defined levels"
      ]
    },
    {
      "cell_type": "code",
      "metadata": {
        "id": "X9j3zUdWV-XQ",
        "colab": {
          "base_uri": "https://localhost:8080/"
        },
        "outputId": "e00903b2-511d-4578-edba-a319594bdbb6"
      },
      "source": [
        "index.get_level_values(0)"
      ],
      "execution_count": null,
      "outputs": [
        {
          "output_type": "execute_result",
          "data": {
            "text/plain": [
              "Index(['bar', 'bar', 'baz', 'baz', 'foo', 'foo', 'qux', 'qux'], dtype='object', name='first')"
            ]
          },
          "metadata": {
            "tags": []
          },
          "execution_count": 133
        }
      ]
    },
    {
      "cell_type": "code",
      "metadata": {
        "id": "I1oy4glQWDtH",
        "colab": {
          "base_uri": "https://localhost:8080/"
        },
        "outputId": "22f84320-c085-4b0d-97d9-8134401004d8"
      },
      "source": [
        "index.get_level_values(0)"
      ],
      "execution_count": null,
      "outputs": [
        {
          "output_type": "execute_result",
          "data": {
            "text/plain": [
              "Index(['bar', 'bar', 'baz', 'baz', 'foo', 'foo', 'qux', 'qux'], dtype='object', name='first')"
            ]
          },
          "metadata": {
            "tags": []
          },
          "execution_count": 134
        }
      ]
    },
    {
      "cell_type": "code",
      "metadata": {
        "id": "EpIMHr50W41B",
        "colab": {
          "base_uri": "https://localhost:8080/"
        },
        "outputId": "404c5e98-db1d-4462-f88b-c4e88c24a502"
      },
      "source": [
        "df.columns.levels  # original MultiIndex"
      ],
      "execution_count": null,
      "outputs": [
        {
          "output_type": "execute_result",
          "data": {
            "text/plain": [
              "FrozenList([['bar', 'baz', 'foo', 'qux'], ['one', 'two']])"
            ]
          },
          "metadata": {
            "tags": []
          },
          "execution_count": 135
        }
      ]
    },
    {
      "cell_type": "code",
      "metadata": {
        "id": "GjSJLwnJW8fg",
        "colab": {
          "base_uri": "https://localhost:8080/"
        },
        "outputId": "4a5a13fd-9a99-41f9-b143-6fe00b5c5716"
      },
      "source": [
        "\n",
        "df[['foo','qux']].columns.levels  # sliced"
      ],
      "execution_count": null,
      "outputs": [
        {
          "output_type": "execute_result",
          "data": {
            "text/plain": [
              "FrozenList([['bar', 'baz', 'foo', 'qux'], ['one', 'two']])"
            ]
          },
          "metadata": {
            "tags": []
          },
          "execution_count": 136
        }
      ]
    },
    {
      "cell_type": "markdown",
      "metadata": {
        "id": "RqIMha_7Utyz"
      },
      "source": [
        "Basic indexing on axis with MultiIndex"
      ]
    },
    {
      "cell_type": "code",
      "metadata": {
        "id": "YopZSiNfWHh7",
        "colab": {
          "base_uri": "https://localhost:8080/",
          "height": 166
        },
        "outputId": "0b3c1338-6aea-46c5-b5ea-d607dace96e1"
      },
      "source": [
        "index = pd.MultiIndex.from_tuples(tuples, names=['first', 'second'])\n",
        "df = pd.DataFrame(np.random.randn(3, 8), index=['A', 'B', 'C'], columns=index)\n",
        "\n",
        "df"
      ],
      "execution_count": null,
      "outputs": [
        {
          "output_type": "execute_result",
          "data": {
            "text/html": [
              "<div>\n",
              "<style scoped>\n",
              "    .dataframe tbody tr th:only-of-type {\n",
              "        vertical-align: middle;\n",
              "    }\n",
              "\n",
              "    .dataframe tbody tr th {\n",
              "        vertical-align: top;\n",
              "    }\n",
              "\n",
              "    .dataframe thead tr th {\n",
              "        text-align: left;\n",
              "    }\n",
              "</style>\n",
              "<table border=\"1\" class=\"dataframe\">\n",
              "  <thead>\n",
              "    <tr>\n",
              "      <th>first</th>\n",
              "      <th colspan=\"2\" halign=\"left\">bar</th>\n",
              "      <th colspan=\"2\" halign=\"left\">baz</th>\n",
              "      <th colspan=\"2\" halign=\"left\">foo</th>\n",
              "      <th colspan=\"2\" halign=\"left\">qux</th>\n",
              "    </tr>\n",
              "    <tr>\n",
              "      <th>second</th>\n",
              "      <th>one</th>\n",
              "      <th>two</th>\n",
              "      <th>one</th>\n",
              "      <th>two</th>\n",
              "      <th>one</th>\n",
              "      <th>two</th>\n",
              "      <th>one</th>\n",
              "      <th>two</th>\n",
              "    </tr>\n",
              "  </thead>\n",
              "  <tbody>\n",
              "    <tr>\n",
              "      <th>A</th>\n",
              "      <td>0.920336</td>\n",
              "      <td>-0.528814</td>\n",
              "      <td>-0.563901</td>\n",
              "      <td>-0.909227</td>\n",
              "      <td>0.088069</td>\n",
              "      <td>0.659366</td>\n",
              "      <td>-0.702600</td>\n",
              "      <td>1.179968</td>\n",
              "    </tr>\n",
              "    <tr>\n",
              "      <th>B</th>\n",
              "      <td>-1.034231</td>\n",
              "      <td>-0.029474</td>\n",
              "      <td>-0.586407</td>\n",
              "      <td>-2.002000</td>\n",
              "      <td>-0.348976</td>\n",
              "      <td>1.120519</td>\n",
              "      <td>0.902737</td>\n",
              "      <td>-0.396589</td>\n",
              "    </tr>\n",
              "    <tr>\n",
              "      <th>C</th>\n",
              "      <td>0.809107</td>\n",
              "      <td>-0.027857</td>\n",
              "      <td>-0.061705</td>\n",
              "      <td>-0.014230</td>\n",
              "      <td>1.513818</td>\n",
              "      <td>-0.550919</td>\n",
              "      <td>0.681008</td>\n",
              "      <td>-1.947510</td>\n",
              "    </tr>\n",
              "  </tbody>\n",
              "</table>\n",
              "</div>"
            ],
            "text/plain": [
              "first        bar                 baz  ...       foo       qux          \n",
              "second       one       two       one  ...       two       one       two\n",
              "A       0.920336 -0.528814 -0.563901  ...  0.659366 -0.702600  1.179968\n",
              "B      -1.034231 -0.029474 -0.586407  ...  1.120519  0.902737 -0.396589\n",
              "C       0.809107 -0.027857 -0.061705  ... -0.550919  0.681008 -1.947510\n",
              "\n",
              "[3 rows x 8 columns]"
            ]
          },
          "metadata": {
            "tags": []
          },
          "execution_count": 137
        }
      ]
    },
    {
      "cell_type": "code",
      "metadata": {
        "id": "KIRLn4f1UpgY",
        "colab": {
          "base_uri": "https://localhost:8080/",
          "height": 136
        },
        "outputId": "1b05e72e-5dab-4995-9727-567f5c93b49c"
      },
      "source": [
        "df['bar']"
      ],
      "execution_count": null,
      "outputs": [
        {
          "output_type": "execute_result",
          "data": {
            "text/html": [
              "<div>\n",
              "<style scoped>\n",
              "    .dataframe tbody tr th:only-of-type {\n",
              "        vertical-align: middle;\n",
              "    }\n",
              "\n",
              "    .dataframe tbody tr th {\n",
              "        vertical-align: top;\n",
              "    }\n",
              "\n",
              "    .dataframe thead th {\n",
              "        text-align: right;\n",
              "    }\n",
              "</style>\n",
              "<table border=\"1\" class=\"dataframe\">\n",
              "  <thead>\n",
              "    <tr style=\"text-align: right;\">\n",
              "      <th>second</th>\n",
              "      <th>one</th>\n",
              "      <th>two</th>\n",
              "    </tr>\n",
              "  </thead>\n",
              "  <tbody>\n",
              "    <tr>\n",
              "      <th>A</th>\n",
              "      <td>0.920336</td>\n",
              "      <td>-0.528814</td>\n",
              "    </tr>\n",
              "    <tr>\n",
              "      <th>B</th>\n",
              "      <td>-1.034231</td>\n",
              "      <td>-0.029474</td>\n",
              "    </tr>\n",
              "    <tr>\n",
              "      <th>C</th>\n",
              "      <td>0.809107</td>\n",
              "      <td>-0.027857</td>\n",
              "    </tr>\n",
              "  </tbody>\n",
              "</table>\n",
              "</div>"
            ],
            "text/plain": [
              "second       one       two\n",
              "A       0.920336 -0.528814\n",
              "B      -1.034231 -0.029474\n",
              "C       0.809107 -0.027857"
            ]
          },
          "metadata": {
            "tags": []
          },
          "execution_count": 138
        }
      ]
    },
    {
      "cell_type": "code",
      "metadata": {
        "id": "oEQWIM3oWMNj",
        "colab": {
          "base_uri": "https://localhost:8080/"
        },
        "outputId": "31ec09a7-eba9-4bc8-ba03-9e75c11e22eb"
      },
      "source": [
        "df['bar', 'one']"
      ],
      "execution_count": null,
      "outputs": [
        {
          "output_type": "execute_result",
          "data": {
            "text/plain": [
              "A    0.920336\n",
              "B   -1.034231\n",
              "C    0.809107\n",
              "Name: (bar, one), dtype: float64"
            ]
          },
          "metadata": {
            "tags": []
          },
          "execution_count": 139
        }
      ]
    },
    {
      "cell_type": "code",
      "metadata": {
        "id": "vXLdUNm1WPEy",
        "colab": {
          "base_uri": "https://localhost:8080/"
        },
        "outputId": "4f95b44d-0604-4741-bf47-6f8fee3ee677"
      },
      "source": [
        "df['bar']['one']"
      ],
      "execution_count": null,
      "outputs": [
        {
          "output_type": "execute_result",
          "data": {
            "text/plain": [
              "A    0.920336\n",
              "B   -1.034231\n",
              "C    0.809107\n",
              "Name: one, dtype: float64"
            ]
          },
          "metadata": {
            "tags": []
          },
          "execution_count": 140
        }
      ]
    },
    {
      "cell_type": "code",
      "metadata": {
        "id": "In_9rgdUXXtj",
        "colab": {
          "base_uri": "https://localhost:8080/",
          "height": 314
        },
        "outputId": "31e83e77-fd73-41a7-eeba-da43846eeffb"
      },
      "source": [
        "# Transfor DataFrame\n",
        "df = df.T \n",
        "df"
      ],
      "execution_count": null,
      "outputs": [
        {
          "output_type": "execute_result",
          "data": {
            "text/html": [
              "<div>\n",
              "<style scoped>\n",
              "    .dataframe tbody tr th:only-of-type {\n",
              "        vertical-align: middle;\n",
              "    }\n",
              "\n",
              "    .dataframe tbody tr th {\n",
              "        vertical-align: top;\n",
              "    }\n",
              "\n",
              "    .dataframe thead th {\n",
              "        text-align: right;\n",
              "    }\n",
              "</style>\n",
              "<table border=\"1\" class=\"dataframe\">\n",
              "  <thead>\n",
              "    <tr style=\"text-align: right;\">\n",
              "      <th></th>\n",
              "      <th></th>\n",
              "      <th>A</th>\n",
              "      <th>B</th>\n",
              "      <th>C</th>\n",
              "    </tr>\n",
              "    <tr>\n",
              "      <th>first</th>\n",
              "      <th>second</th>\n",
              "      <th></th>\n",
              "      <th></th>\n",
              "      <th></th>\n",
              "    </tr>\n",
              "  </thead>\n",
              "  <tbody>\n",
              "    <tr>\n",
              "      <th rowspan=\"2\" valign=\"top\">bar</th>\n",
              "      <th>one</th>\n",
              "      <td>0.920336</td>\n",
              "      <td>-1.034231</td>\n",
              "      <td>0.809107</td>\n",
              "    </tr>\n",
              "    <tr>\n",
              "      <th>two</th>\n",
              "      <td>-0.528814</td>\n",
              "      <td>-0.029474</td>\n",
              "      <td>-0.027857</td>\n",
              "    </tr>\n",
              "    <tr>\n",
              "      <th rowspan=\"2\" valign=\"top\">baz</th>\n",
              "      <th>one</th>\n",
              "      <td>-0.563901</td>\n",
              "      <td>-0.586407</td>\n",
              "      <td>-0.061705</td>\n",
              "    </tr>\n",
              "    <tr>\n",
              "      <th>two</th>\n",
              "      <td>-0.909227</td>\n",
              "      <td>-2.002000</td>\n",
              "      <td>-0.014230</td>\n",
              "    </tr>\n",
              "    <tr>\n",
              "      <th rowspan=\"2\" valign=\"top\">foo</th>\n",
              "      <th>one</th>\n",
              "      <td>0.088069</td>\n",
              "      <td>-0.348976</td>\n",
              "      <td>1.513818</td>\n",
              "    </tr>\n",
              "    <tr>\n",
              "      <th>two</th>\n",
              "      <td>0.659366</td>\n",
              "      <td>1.120519</td>\n",
              "      <td>-0.550919</td>\n",
              "    </tr>\n",
              "    <tr>\n",
              "      <th rowspan=\"2\" valign=\"top\">qux</th>\n",
              "      <th>one</th>\n",
              "      <td>-0.702600</td>\n",
              "      <td>0.902737</td>\n",
              "      <td>0.681008</td>\n",
              "    </tr>\n",
              "    <tr>\n",
              "      <th>two</th>\n",
              "      <td>1.179968</td>\n",
              "      <td>-0.396589</td>\n",
              "      <td>-1.947510</td>\n",
              "    </tr>\n",
              "  </tbody>\n",
              "</table>\n",
              "</div>"
            ],
            "text/plain": [
              "                     A         B         C\n",
              "first second                              \n",
              "bar   one     0.920336 -1.034231  0.809107\n",
              "      two    -0.528814 -0.029474 -0.027857\n",
              "baz   one    -0.563901 -0.586407 -0.061705\n",
              "      two    -0.909227 -2.002000 -0.014230\n",
              "foo   one     0.088069 -0.348976  1.513818\n",
              "      two     0.659366  1.120519 -0.550919\n",
              "qux   one    -0.702600  0.902737  0.681008\n",
              "      two     1.179968 -0.396589 -1.947510"
            ]
          },
          "metadata": {
            "tags": []
          },
          "execution_count": 141
        }
      ]
    },
    {
      "cell_type": "code",
      "metadata": {
        "id": "otsd9S5GXe41",
        "colab": {
          "base_uri": "https://localhost:8080/"
        },
        "outputId": "bd06f459-3e92-4b67-dc04-7ac91ed04da6"
      },
      "source": [
        "df.loc['bar', 'two']"
      ],
      "execution_count": null,
      "outputs": [
        {
          "output_type": "execute_result",
          "data": {
            "text/plain": [
              "A   -0.528814\n",
              "B   -0.029474\n",
              "C   -0.027857\n",
              "Name: (bar, two), dtype: float64"
            ]
          },
          "metadata": {
            "tags": []
          },
          "execution_count": 142
        }
      ]
    },
    {
      "cell_type": "code",
      "metadata": {
        "id": "tZal4eXiXSAa",
        "colab": {
          "base_uri": "https://localhost:8080/"
        },
        "outputId": "5968dce9-1d1c-47a5-9ba9-19a2e30f6c89"
      },
      "source": [
        "df.loc[('bar', 'two')]"
      ],
      "execution_count": null,
      "outputs": [
        {
          "output_type": "execute_result",
          "data": {
            "text/plain": [
              "A   -0.528814\n",
              "B   -0.029474\n",
              "C   -0.027857\n",
              "Name: (bar, two), dtype: float64"
            ]
          },
          "metadata": {
            "tags": []
          },
          "execution_count": 143
        }
      ]
    },
    {
      "cell_type": "code",
      "metadata": {
        "id": "JF-RgV2-XLHf",
        "colab": {
          "base_uri": "https://localhost:8080/"
        },
        "outputId": "86bc6bf3-8cc8-4f44-e9fe-bcbc9e565916"
      },
      "source": [
        "df.loc[('bar', 'two'), 'A']"
      ],
      "execution_count": null,
      "outputs": [
        {
          "output_type": "execute_result",
          "data": {
            "text/plain": [
              "-0.5288135950556744"
            ]
          },
          "metadata": {
            "tags": []
          },
          "execution_count": 144
        }
      ]
    },
    {
      "cell_type": "code",
      "metadata": {
        "id": "r4evniDNX5Zy",
        "colab": {
          "base_uri": "https://localhost:8080/",
          "height": 195
        },
        "outputId": "8a4bc1b5-a27c-42ff-b20e-a0b79824d81f"
      },
      "source": [
        "df.loc['baz':'foo']"
      ],
      "execution_count": null,
      "outputs": [
        {
          "output_type": "execute_result",
          "data": {
            "text/html": [
              "<div>\n",
              "<style scoped>\n",
              "    .dataframe tbody tr th:only-of-type {\n",
              "        vertical-align: middle;\n",
              "    }\n",
              "\n",
              "    .dataframe tbody tr th {\n",
              "        vertical-align: top;\n",
              "    }\n",
              "\n",
              "    .dataframe thead th {\n",
              "        text-align: right;\n",
              "    }\n",
              "</style>\n",
              "<table border=\"1\" class=\"dataframe\">\n",
              "  <thead>\n",
              "    <tr style=\"text-align: right;\">\n",
              "      <th></th>\n",
              "      <th></th>\n",
              "      <th>A</th>\n",
              "      <th>B</th>\n",
              "      <th>C</th>\n",
              "    </tr>\n",
              "    <tr>\n",
              "      <th>first</th>\n",
              "      <th>second</th>\n",
              "      <th></th>\n",
              "      <th></th>\n",
              "      <th></th>\n",
              "    </tr>\n",
              "  </thead>\n",
              "  <tbody>\n",
              "    <tr>\n",
              "      <th rowspan=\"2\" valign=\"top\">baz</th>\n",
              "      <th>one</th>\n",
              "      <td>-0.563901</td>\n",
              "      <td>-0.586407</td>\n",
              "      <td>-0.061705</td>\n",
              "    </tr>\n",
              "    <tr>\n",
              "      <th>two</th>\n",
              "      <td>-0.909227</td>\n",
              "      <td>-2.002000</td>\n",
              "      <td>-0.014230</td>\n",
              "    </tr>\n",
              "    <tr>\n",
              "      <th rowspan=\"2\" valign=\"top\">foo</th>\n",
              "      <th>one</th>\n",
              "      <td>0.088069</td>\n",
              "      <td>-0.348976</td>\n",
              "      <td>1.513818</td>\n",
              "    </tr>\n",
              "    <tr>\n",
              "      <th>two</th>\n",
              "      <td>0.659366</td>\n",
              "      <td>1.120519</td>\n",
              "      <td>-0.550919</td>\n",
              "    </tr>\n",
              "  </tbody>\n",
              "</table>\n",
              "</div>"
            ],
            "text/plain": [
              "                     A         B         C\n",
              "first second                              \n",
              "baz   one    -0.563901 -0.586407 -0.061705\n",
              "      two    -0.909227 -2.002000 -0.014230\n",
              "foo   one     0.088069 -0.348976  1.513818\n",
              "      two     0.659366  1.120519 -0.550919"
            ]
          },
          "metadata": {
            "tags": []
          },
          "execution_count": 145
        }
      ]
    },
    {
      "cell_type": "code",
      "metadata": {
        "id": "DBmSjqwUX8o-",
        "colab": {
          "base_uri": "https://localhost:8080/",
          "height": 195
        },
        "outputId": "7284a23a-3c77-47b7-cd38-527504f55a69"
      },
      "source": [
        "df.loc[('baz', 'two'):('qux', 'one')]"
      ],
      "execution_count": null,
      "outputs": [
        {
          "output_type": "execute_result",
          "data": {
            "text/html": [
              "<div>\n",
              "<style scoped>\n",
              "    .dataframe tbody tr th:only-of-type {\n",
              "        vertical-align: middle;\n",
              "    }\n",
              "\n",
              "    .dataframe tbody tr th {\n",
              "        vertical-align: top;\n",
              "    }\n",
              "\n",
              "    .dataframe thead th {\n",
              "        text-align: right;\n",
              "    }\n",
              "</style>\n",
              "<table border=\"1\" class=\"dataframe\">\n",
              "  <thead>\n",
              "    <tr style=\"text-align: right;\">\n",
              "      <th></th>\n",
              "      <th></th>\n",
              "      <th>A</th>\n",
              "      <th>B</th>\n",
              "      <th>C</th>\n",
              "    </tr>\n",
              "    <tr>\n",
              "      <th>first</th>\n",
              "      <th>second</th>\n",
              "      <th></th>\n",
              "      <th></th>\n",
              "      <th></th>\n",
              "    </tr>\n",
              "  </thead>\n",
              "  <tbody>\n",
              "    <tr>\n",
              "      <th>baz</th>\n",
              "      <th>two</th>\n",
              "      <td>-0.909227</td>\n",
              "      <td>-2.002000</td>\n",
              "      <td>-0.014230</td>\n",
              "    </tr>\n",
              "    <tr>\n",
              "      <th rowspan=\"2\" valign=\"top\">foo</th>\n",
              "      <th>one</th>\n",
              "      <td>0.088069</td>\n",
              "      <td>-0.348976</td>\n",
              "      <td>1.513818</td>\n",
              "    </tr>\n",
              "    <tr>\n",
              "      <th>two</th>\n",
              "      <td>0.659366</td>\n",
              "      <td>1.120519</td>\n",
              "      <td>-0.550919</td>\n",
              "    </tr>\n",
              "    <tr>\n",
              "      <th>qux</th>\n",
              "      <th>one</th>\n",
              "      <td>-0.702600</td>\n",
              "      <td>0.902737</td>\n",
              "      <td>0.681008</td>\n",
              "    </tr>\n",
              "  </tbody>\n",
              "</table>\n",
              "</div>"
            ],
            "text/plain": [
              "                     A         B         C\n",
              "first second                              \n",
              "baz   two    -0.909227 -2.002000 -0.014230\n",
              "foo   one     0.088069 -0.348976  1.513818\n",
              "      two     0.659366  1.120519 -0.550919\n",
              "qux   one    -0.702600  0.902737  0.681008"
            ]
          },
          "metadata": {
            "tags": []
          },
          "execution_count": 146
        }
      ]
    },
    {
      "cell_type": "code",
      "metadata": {
        "id": "qgOoNAzpYD7H",
        "colab": {
          "base_uri": "https://localhost:8080/",
          "height": 166
        },
        "outputId": "7901bc05-2414-4f5d-b9fe-b2e105464f8e"
      },
      "source": [
        "df.loc[('baz', 'two'):'foo']"
      ],
      "execution_count": null,
      "outputs": [
        {
          "output_type": "execute_result",
          "data": {
            "text/html": [
              "<div>\n",
              "<style scoped>\n",
              "    .dataframe tbody tr th:only-of-type {\n",
              "        vertical-align: middle;\n",
              "    }\n",
              "\n",
              "    .dataframe tbody tr th {\n",
              "        vertical-align: top;\n",
              "    }\n",
              "\n",
              "    .dataframe thead th {\n",
              "        text-align: right;\n",
              "    }\n",
              "</style>\n",
              "<table border=\"1\" class=\"dataframe\">\n",
              "  <thead>\n",
              "    <tr style=\"text-align: right;\">\n",
              "      <th></th>\n",
              "      <th></th>\n",
              "      <th>A</th>\n",
              "      <th>B</th>\n",
              "      <th>C</th>\n",
              "    </tr>\n",
              "    <tr>\n",
              "      <th>first</th>\n",
              "      <th>second</th>\n",
              "      <th></th>\n",
              "      <th></th>\n",
              "      <th></th>\n",
              "    </tr>\n",
              "  </thead>\n",
              "  <tbody>\n",
              "    <tr>\n",
              "      <th>baz</th>\n",
              "      <th>two</th>\n",
              "      <td>-0.909227</td>\n",
              "      <td>-2.002000</td>\n",
              "      <td>-0.014230</td>\n",
              "    </tr>\n",
              "    <tr>\n",
              "      <th rowspan=\"2\" valign=\"top\">foo</th>\n",
              "      <th>one</th>\n",
              "      <td>0.088069</td>\n",
              "      <td>-0.348976</td>\n",
              "      <td>1.513818</td>\n",
              "    </tr>\n",
              "    <tr>\n",
              "      <th>two</th>\n",
              "      <td>0.659366</td>\n",
              "      <td>1.120519</td>\n",
              "      <td>-0.550919</td>\n",
              "    </tr>\n",
              "  </tbody>\n",
              "</table>\n",
              "</div>"
            ],
            "text/plain": [
              "                     A         B         C\n",
              "first second                              \n",
              "baz   two    -0.909227 -2.002000 -0.014230\n",
              "foo   one     0.088069 -0.348976  1.513818\n",
              "      two     0.659366  1.120519 -0.550919"
            ]
          },
          "metadata": {
            "tags": []
          },
          "execution_count": 147
        }
      ]
    },
    {
      "cell_type": "code",
      "metadata": {
        "id": "IGfOihDVYGVa",
        "colab": {
          "base_uri": "https://localhost:8080/",
          "height": 136
        },
        "outputId": "d090309c-d7a6-4a75-d1ac-11347d16886e"
      },
      "source": [
        "df.loc[[('bar', 'two'), ('qux', 'one')]]"
      ],
      "execution_count": null,
      "outputs": [
        {
          "output_type": "execute_result",
          "data": {
            "text/html": [
              "<div>\n",
              "<style scoped>\n",
              "    .dataframe tbody tr th:only-of-type {\n",
              "        vertical-align: middle;\n",
              "    }\n",
              "\n",
              "    .dataframe tbody tr th {\n",
              "        vertical-align: top;\n",
              "    }\n",
              "\n",
              "    .dataframe thead th {\n",
              "        text-align: right;\n",
              "    }\n",
              "</style>\n",
              "<table border=\"1\" class=\"dataframe\">\n",
              "  <thead>\n",
              "    <tr style=\"text-align: right;\">\n",
              "      <th></th>\n",
              "      <th></th>\n",
              "      <th>A</th>\n",
              "      <th>B</th>\n",
              "      <th>C</th>\n",
              "    </tr>\n",
              "    <tr>\n",
              "      <th>first</th>\n",
              "      <th>second</th>\n",
              "      <th></th>\n",
              "      <th></th>\n",
              "      <th></th>\n",
              "    </tr>\n",
              "  </thead>\n",
              "  <tbody>\n",
              "    <tr>\n",
              "      <th>bar</th>\n",
              "      <th>two</th>\n",
              "      <td>-0.528814</td>\n",
              "      <td>-0.029474</td>\n",
              "      <td>-0.027857</td>\n",
              "    </tr>\n",
              "    <tr>\n",
              "      <th>qux</th>\n",
              "      <th>one</th>\n",
              "      <td>-0.702600</td>\n",
              "      <td>0.902737</td>\n",
              "      <td>0.681008</td>\n",
              "    </tr>\n",
              "  </tbody>\n",
              "</table>\n",
              "</div>"
            ],
            "text/plain": [
              "                     A         B         C\n",
              "first second                              \n",
              "bar   two    -0.528814 -0.029474 -0.027857\n",
              "qux   one    -0.702600  0.902737  0.681008"
            ]
          },
          "metadata": {
            "tags": []
          },
          "execution_count": 148
        }
      ]
    },
    {
      "cell_type": "code",
      "metadata": {
        "id": "Vok1KSrhWVt7",
        "colab": {
          "base_uri": "https://localhost:8080/"
        },
        "outputId": "5f4be68d-01a5-416c-855d-e9de0da409e5"
      },
      "source": [
        "arrays = [np.array(['bar', 'bar', 'baz', 'baz', 'foo', 'foo', 'qux', 'qux']),\n",
        "           np.array(['one', 'two', 'one', 'two', 'one', 'two', 'one', 'two'])]\n",
        " \n",
        "\n",
        "s = pd.Series(np.random.randn(8), index=arrays)\n",
        "s"
      ],
      "execution_count": null,
      "outputs": [
        {
          "output_type": "execute_result",
          "data": {
            "text/plain": [
              "bar  one    0.574945\n",
              "     two   -0.654134\n",
              "baz  one   -0.210600\n",
              "     two    1.820071\n",
              "foo  one   -0.612458\n",
              "     two   -0.590678\n",
              "qux  one   -0.868184\n",
              "     two   -0.650901\n",
              "dtype: float64"
            ]
          },
          "metadata": {
            "tags": []
          },
          "execution_count": 149
        }
      ]
    },
    {
      "cell_type": "code",
      "metadata": {
        "id": "zgRw3HE2WXWZ",
        "colab": {
          "base_uri": "https://localhost:8080/"
        },
        "outputId": "6af18539-da93-4fcf-9e1c-6957526ab027"
      },
      "source": [
        "s['qux']"
      ],
      "execution_count": null,
      "outputs": [
        {
          "output_type": "execute_result",
          "data": {
            "text/plain": [
              "one   -0.868184\n",
              "two   -0.650901\n",
              "dtype: float64"
            ]
          },
          "metadata": {
            "tags": []
          },
          "execution_count": 150
        }
      ]
    }
  ]
}